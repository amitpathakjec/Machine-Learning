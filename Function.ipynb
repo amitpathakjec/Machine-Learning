{
  "nbformat": 4,
  "nbformat_minor": 0,
  "metadata": {
    "colab": {
      "name": "Function",
      "provenance": [],
      "collapsed_sections": [
        "fn7FIK7LIeLa",
        "84ogj34Fl5eF",
        "lw_bgVGonvvr"
      ],
      "authorship_tag": "ABX9TyMnSxSniFsPF/nUZoXlCZHg",
      "include_colab_link": true
    },
    "kernelspec": {
      "name": "python3",
      "display_name": "Python 3"
    }
  },
  "cells": [
    {
      "cell_type": "markdown",
      "metadata": {
        "id": "view-in-github",
        "colab_type": "text"
      },
      "source": [
        "<a href=\"https://colab.research.google.com/github/amitpathakjec/Machine-Learning/blob/master/Function.ipynb\" target=\"_parent\"><img src=\"https://colab.research.google.com/assets/colab-badge.svg\" alt=\"Open In Colab\"/></a>"
      ]
    },
    {
      "cell_type": "markdown",
      "metadata": {
        "id": "fn7FIK7LIeLa",
        "colab_type": "text"
      },
      "source": [
        "### **Functions in Python**\n",
        "\n",
        "*   Why Functions\n",
        "*   Function Definition\n",
        "*   Positional and Keyword Arguments in Functions"
      ]
    },
    {
      "cell_type": "code",
      "metadata": {
        "id": "yBJFW5uy-Kzw",
        "colab_type": "code",
        "colab": {
          "base_uri": "https://localhost:8080/",
          "height": 34
        },
        "outputId": "95cf7d70-364b-4c54-f159-236429f190cd"
      },
      "source": [
        "num = 24\n",
        "if num%2 == 0:\n",
        "  print(\"Number is even\")\n",
        "else:\n",
        "  print(\"Number is odd\")  "
      ],
      "execution_count": 1,
      "outputs": [
        {
          "output_type": "stream",
          "text": [
            "Number is even\n"
          ],
          "name": "stdout"
        }
      ]
    },
    {
      "cell_type": "code",
      "metadata": {
        "id": "cEpf4qH2JLGN",
        "colab_type": "code",
        "colab": {}
      },
      "source": [
        "def even_odd(num):\n",
        "  if num%2 == 0:\n",
        "    print(\"The  number is even \")\n",
        "  else:\n",
        "    print(\"The number is odd \")  "
      ],
      "execution_count": 0,
      "outputs": []
    },
    {
      "cell_type": "code",
      "metadata": {
        "id": "MQHfxZisJeUc",
        "colab_type": "code",
        "colab": {
          "base_uri": "https://localhost:8080/",
          "height": 34
        },
        "outputId": "6e13d137-d773-46a5-e30b-bdde1b345ddd"
      },
      "source": [
        "even_odd(13)"
      ],
      "execution_count": 3,
      "outputs": [
        {
          "output_type": "stream",
          "text": [
            "The number is odd \n"
          ],
          "name": "stdout"
        }
      ]
    },
    {
      "cell_type": "code",
      "metadata": {
        "id": "F0wuivxlJgnu",
        "colab_type": "code",
        "colab": {}
      },
      "source": [
        "# print VS return\n",
        "def hello_world():\n",
        "  return \"Hello Welcome\""
      ],
      "execution_count": 0,
      "outputs": []
    },
    {
      "cell_type": "code",
      "metadata": {
        "id": "U9xd5QTAJqv1",
        "colab_type": "code",
        "colab": {}
      },
      "source": [
        "val = hello_world()"
      ],
      "execution_count": 0,
      "outputs": []
    },
    {
      "cell_type": "code",
      "metadata": {
        "id": "VCwJJe62Jt6v",
        "colab_type": "code",
        "colab": {
          "base_uri": "https://localhost:8080/",
          "height": 34
        },
        "outputId": "5af4577b-7f57-4fa5-f7c8-6f48272d28f9"
      },
      "source": [
        "print(val)"
      ],
      "execution_count": 20,
      "outputs": [
        {
          "output_type": "stream",
          "text": [
            "Hello Welcome\n"
          ],
          "name": "stdout"
        }
      ]
    },
    {
      "cell_type": "code",
      "metadata": {
        "id": "CXus1azWJxRm",
        "colab_type": "code",
        "colab": {}
      },
      "source": [
        "def add_num(num1,num2):\n",
        "  return num1+num2"
      ],
      "execution_count": 0,
      "outputs": []
    },
    {
      "cell_type": "code",
      "metadata": {
        "id": "frChHFR1KMDU",
        "colab_type": "code",
        "colab": {}
      },
      "source": [
        "val = add_num(24,48)"
      ],
      "execution_count": 0,
      "outputs": []
    },
    {
      "cell_type": "code",
      "metadata": {
        "id": "h7ujcP3jKQf1",
        "colab_type": "code",
        "colab": {
          "base_uri": "https://localhost:8080/",
          "height": 34
        },
        "outputId": "2efb7feb-fe27-48ac-c8f1-158607ecfcdc"
      },
      "source": [
        "val"
      ],
      "execution_count": 24,
      "outputs": [
        {
          "output_type": "execute_result",
          "data": {
            "text/plain": [
              "72"
            ]
          },
          "metadata": {
            "tags": []
          },
          "execution_count": 24
        }
      ]
    },
    {
      "cell_type": "code",
      "metadata": {
        "id": "nWV4vZ_uKWWJ",
        "colab_type": "code",
        "colab": {}
      },
      "source": [
        "# Positional argument: value not assigned\n",
        "# keyword argument: value already assigned.\n",
        "def hello(name, age = 20):                         \n",
        "  print(\"My name is {} and age is  {} \".format(name,age))"
      ],
      "execution_count": 0,
      "outputs": []
    },
    {
      "cell_type": "code",
      "metadata": {
        "id": "rrSfhN0IjHwN",
        "colab_type": "code",
        "colab": {
          "base_uri": "https://localhost:8080/",
          "height": 34
        },
        "outputId": "05c021af-eef9-4f7b-f553-58001e1748b2"
      },
      "source": [
        "hello(\"Amit\")"
      ],
      "execution_count": 6,
      "outputs": [
        {
          "output_type": "stream",
          "text": [
            "My name is Amit and age is  20 \n"
          ],
          "name": "stdout"
        }
      ]
    },
    {
      "cell_type": "code",
      "metadata": {
        "id": "hVQlcW-bjSin",
        "colab_type": "code",
        "colab": {}
      },
      "source": [
        "# hello()"
      ],
      "execution_count": 0,
      "outputs": []
    },
    {
      "cell_type": "code",
      "metadata": {
        "id": "A9B_jRMojkde",
        "colab_type": "code",
        "colab": {}
      },
      "source": [
        "def function(*args,**kwargs):\n",
        "  print(args)\n",
        "  print(kwargs)"
      ],
      "execution_count": 0,
      "outputs": []
    },
    {
      "cell_type": "code",
      "metadata": {
        "id": "QkhgzQ0xkWpA",
        "colab_type": "code",
        "colab": {
          "base_uri": "https://localhost:8080/",
          "height": 51
        },
        "outputId": "e615a92c-f081-48a8-d23d-8645c5fae4d9"
      },
      "source": [
        "function(\"Amit\",\"Pathak\",age=20,location=\"Katni\")"
      ],
      "execution_count": 9,
      "outputs": [
        {
          "output_type": "stream",
          "text": [
            "('Amit', 'Pathak')\n",
            "{'age': 20, 'location': 'Katni'}\n"
          ],
          "name": "stdout"
        }
      ]
    },
    {
      "cell_type": "code",
      "metadata": {
        "id": "ZuFhZSejkgz_",
        "colab_type": "code",
        "colab": {}
      },
      "source": [
        "list_1 = [1,2,3,4,5,6,7]"
      ],
      "execution_count": 0,
      "outputs": []
    },
    {
      "cell_type": "code",
      "metadata": {
        "id": "Ztt9FnsWk1pP",
        "colab_type": "code",
        "colab": {
          "base_uri": "https://localhost:8080/",
          "height": 34
        },
        "outputId": "23ef7008-4072-401f-902f-02cd8db22bcc"
      },
      "source": [
        "def EvenOddSum(list):\n",
        "  even_sum = 0\n",
        "  odd_sum = 0\n",
        "  for i in list_1:\n",
        "    if i % 2 == 0:\n",
        "      even_sum = even_sum + i\n",
        "    else:\n",
        "      odd_sum = odd_sum + i  \n",
        "  return even_sum, odd_sum\n",
        "\n",
        "  \n",
        "EvenOddSum(list_1)"
      ],
      "execution_count": 16,
      "outputs": [
        {
          "output_type": "execute_result",
          "data": {
            "text/plain": [
              "(12, 16)"
            ]
          },
          "metadata": {
            "tags": []
          },
          "execution_count": 16
        }
      ]
    },
    {
      "cell_type": "markdown",
      "metadata": {
        "id": "84ogj34Fl5eF",
        "colab_type": "text"
      },
      "source": [
        "### **Lambda function**   \n",
        "(anonymous function)\n",
        "\n",
        "A function with no name is known as\n",
        "\n",
        "```\n",
        "# This is formatted as code\n",
        "```\n",
        "\n",
        " lambda function.\n"
      ]
    },
    {
      "cell_type": "code",
      "metadata": {
        "id": "9B-Gq5G0lPe3",
        "colab_type": "code",
        "colab": {}
      },
      "source": [
        "# normal function\n",
        "def addition(a,b):\n",
        "  return a+b"
      ],
      "execution_count": 0,
      "outputs": []
    },
    {
      "cell_type": "code",
      "metadata": {
        "id": "_l8xEWF8mXtK",
        "colab_type": "code",
        "colab": {
          "base_uri": "https://localhost:8080/",
          "height": 34
        },
        "outputId": "e251aaa0-7bae-4626-f695-bdcc2ed08956"
      },
      "source": [
        "addition(4,5)"
      ],
      "execution_count": 20,
      "outputs": [
        {
          "output_type": "execute_result",
          "data": {
            "text/plain": [
              "9"
            ]
          },
          "metadata": {
            "tags": []
          },
          "execution_count": 20
        }
      ]
    },
    {
      "cell_type": "code",
      "metadata": {
        "id": "kCY9_nefmZHW",
        "colab_type": "code",
        "colab": {}
      },
      "source": [
        "#  lambda function\n",
        "addition = lambda a,b:a+b"
      ],
      "execution_count": 0,
      "outputs": []
    },
    {
      "cell_type": "code",
      "metadata": {
        "id": "MpeqBE5ImmRK",
        "colab_type": "code",
        "colab": {
          "base_uri": "https://localhost:8080/",
          "height": 34
        },
        "outputId": "1398b344-fe9c-481a-e995-f204f7c33465"
      },
      "source": [
        "addition(4,5)"
      ],
      "execution_count": 24,
      "outputs": [
        {
          "output_type": "execute_result",
          "data": {
            "text/plain": [
              "9"
            ]
          },
          "metadata": {
            "tags": []
          },
          "execution_count": 24
        }
      ]
    },
    {
      "cell_type": "code",
      "metadata": {
        "id": "ZQ2vUwHYmwKB",
        "colab_type": "code",
        "colab": {}
      },
      "source": [
        "def even(num):\n",
        "  if num%2 == 0:\n",
        "    return True"
      ],
      "execution_count": 0,
      "outputs": []
    },
    {
      "cell_type": "code",
      "metadata": {
        "id": "1mbZ6be2nAj4",
        "colab_type": "code",
        "colab": {
          "base_uri": "https://localhost:8080/",
          "height": 34
        },
        "outputId": "d15bbdc2-ed4f-44f7-aeaa-9dde156f09db"
      },
      "source": [
        "even(90)"
      ],
      "execution_count": 29,
      "outputs": [
        {
          "output_type": "execute_result",
          "data": {
            "text/plain": [
              "True"
            ]
          },
          "metadata": {
            "tags": []
          },
          "execution_count": 29
        }
      ]
    },
    {
      "cell_type": "code",
      "metadata": {
        "id": "vwCkrSglnE9x",
        "colab_type": "code",
        "colab": {}
      },
      "source": [
        "even_1 = lambda a: a%2==0"
      ],
      "execution_count": 0,
      "outputs": []
    },
    {
      "cell_type": "code",
      "metadata": {
        "id": "1Qg9XdHPnOeW",
        "colab_type": "code",
        "colab": {
          "base_uri": "https://localhost:8080/",
          "height": 34
        },
        "outputId": "22fd4771-9d5e-4813-ebcc-83a6510a6ad5"
      },
      "source": [
        "even_1(12)"
      ],
      "execution_count": 32,
      "outputs": [
        {
          "output_type": "execute_result",
          "data": {
            "text/plain": [
              "True"
            ]
          },
          "metadata": {
            "tags": []
          },
          "execution_count": 32
        }
      ]
    },
    {
      "cell_type": "code",
      "metadata": {
        "id": "6Fz9jEqmnSoq",
        "colab_type": "code",
        "colab": {}
      },
      "source": [
        "def addition_1(x,y,z):\n",
        "  return x+y+z"
      ],
      "execution_count": 0,
      "outputs": []
    },
    {
      "cell_type": "code",
      "metadata": {
        "id": "dFq8nCYAnaZa",
        "colab_type": "code",
        "colab": {
          "base_uri": "https://localhost:8080/",
          "height": 34
        },
        "outputId": "6a34508b-50e2-469a-92d7-56b9e8cb8333"
      },
      "source": [
        "addition_1(1,2,3)"
      ],
      "execution_count": 34,
      "outputs": [
        {
          "output_type": "execute_result",
          "data": {
            "text/plain": [
              "6"
            ]
          },
          "metadata": {
            "tags": []
          },
          "execution_count": 34
        }
      ]
    },
    {
      "cell_type": "code",
      "metadata": {
        "id": "SDt1M6U8ncsp",
        "colab_type": "code",
        "colab": {}
      },
      "source": [
        "add = lambda a,b,c : a+b+c"
      ],
      "execution_count": 0,
      "outputs": []
    },
    {
      "cell_type": "code",
      "metadata": {
        "id": "k_cCv-6oniLK",
        "colab_type": "code",
        "colab": {
          "base_uri": "https://localhost:8080/",
          "height": 34
        },
        "outputId": "e2b46839-0880-43af-ee6a-1281773cd4a9"
      },
      "source": [
        "add(5,5,5)"
      ],
      "execution_count": 36,
      "outputs": [
        {
          "output_type": "execute_result",
          "data": {
            "text/plain": [
              "15"
            ]
          },
          "metadata": {
            "tags": []
          },
          "execution_count": 36
        }
      ]
    },
    {
      "cell_type": "markdown",
      "metadata": {
        "id": "lw_bgVGonvvr",
        "colab_type": "text"
      },
      "source": [
        "### **Map function**"
      ]
    },
    {
      "cell_type": "code",
      "metadata": {
        "id": "gL9oyjLInjnl",
        "colab_type": "code",
        "colab": {}
      },
      "source": [
        "def even_odd(num):\n",
        "  if num%2 == 0:\n",
        "    return \"Even\"\n",
        "  else:\n",
        "    return \"Odd\"  "
      ],
      "execution_count": 0,
      "outputs": []
    },
    {
      "cell_type": "code",
      "metadata": {
        "id": "UwGguveuoDo9",
        "colab_type": "code",
        "colab": {
          "base_uri": "https://localhost:8080/",
          "height": 34
        },
        "outputId": "f8352030-7615-4505-f00a-bc6f08f71d06"
      },
      "source": [
        "even_odd(45)"
      ],
      "execution_count": 38,
      "outputs": [
        {
          "output_type": "execute_result",
          "data": {
            "text/plain": [
              "'Odd'"
            ]
          },
          "metadata": {
            "tags": []
          },
          "execution_count": 38
        }
      ]
    },
    {
      "cell_type": "code",
      "metadata": {
        "id": "jNeY7tOZoGhP",
        "colab_type": "code",
        "colab": {}
      },
      "source": [
        "listt = [1,2,3,4,5,6,7,8,9,24,56,78]\n",
        "# one way to check even odd in list is through looping"
      ],
      "execution_count": 0,
      "outputs": []
    },
    {
      "cell_type": "code",
      "metadata": {
        "id": "PdwaRbyYoWNo",
        "colab_type": "code",
        "colab": {
          "base_uri": "https://localhost:8080/",
          "height": 221
        },
        "outputId": "3fa0efd0-c851-4666-a8f9-3bdbd0b41edd"
      },
      "source": [
        "# Using map  funtion\n",
        "# map(function,list)\n",
        "list(map(even_odd,listt))"
      ],
      "execution_count": 44,
      "outputs": [
        {
          "output_type": "execute_result",
          "data": {
            "text/plain": [
              "['Odd',\n",
              " 'Even',\n",
              " 'Odd',\n",
              " 'Even',\n",
              " 'Odd',\n",
              " 'Even',\n",
              " 'Odd',\n",
              " 'Even',\n",
              " 'Odd',\n",
              " 'Even',\n",
              " 'Even',\n",
              " 'Even']"
            ]
          },
          "metadata": {
            "tags": []
          },
          "execution_count": 44
        }
      ]
    },
    {
      "cell_type": "markdown",
      "metadata": {
        "id": "4BY-CmRCpgXA",
        "colab_type": "text"
      },
      "source": [
        "### **Filters function**"
      ]
    },
    {
      "cell_type": "code",
      "metadata": {
        "id": "rlA_XAY2otNV",
        "colab_type": "code",
        "colab": {}
      },
      "source": [
        "def even(num):\n",
        "  if num%2 == 0:\n",
        "    return True"
      ],
      "execution_count": 0,
      "outputs": []
    },
    {
      "cell_type": "code",
      "metadata": {
        "id": "jX6197supt4L",
        "colab_type": "code",
        "colab": {
          "base_uri": "https://localhost:8080/",
          "height": 34
        },
        "outputId": "ae068a11-040a-4cd7-ff5c-fe56a1dc5167"
      },
      "source": [
        "even(80)"
      ],
      "execution_count": 46,
      "outputs": [
        {
          "output_type": "execute_result",
          "data": {
            "text/plain": [
              "True"
            ]
          },
          "metadata": {
            "tags": []
          },
          "execution_count": 46
        }
      ]
    },
    {
      "cell_type": "code",
      "metadata": {
        "id": "lAaHcsLTpvMH",
        "colab_type": "code",
        "colab": {
          "base_uri": "https://localhost:8080/",
          "height": 34
        },
        "outputId": "c6633af2-e8fd-4c64-b31d-720b06ef0675"
      },
      "source": [
        "# Using filter function\n",
        "list(filter(even,listt))"
      ],
      "execution_count": 48,
      "outputs": [
        {
          "output_type": "execute_result",
          "data": {
            "text/plain": [
              "[2, 4, 6, 8, 24, 56, 78]"
            ]
          },
          "metadata": {
            "tags": []
          },
          "execution_count": 48
        }
      ]
    },
    {
      "cell_type": "code",
      "metadata": {
        "id": "DzzcEts3p6q0",
        "colab_type": "code",
        "colab": {
          "base_uri": "https://localhost:8080/",
          "height": 34
        },
        "outputId": "a531d9b2-db57-48c5-f85d-7e3aa213282b"
      },
      "source": [
        "list(filter(lambda num: num%2==0,listt))   #we can say filter funtion filters out true conditions"
      ],
      "execution_count": 51,
      "outputs": [
        {
          "output_type": "execute_result",
          "data": {
            "text/plain": [
              "[2, 4, 6, 8, 24, 56, 78]"
            ]
          },
          "metadata": {
            "tags": []
          },
          "execution_count": 51
        }
      ]
    },
    {
      "cell_type": "code",
      "metadata": {
        "id": "_HT6xv4AqI-I",
        "colab_type": "code",
        "colab": {
          "base_uri": "https://localhost:8080/",
          "height": 34
        },
        "outputId": "19d0f35f-f65d-4dba-cc0b-fde5870aacd4"
      },
      "source": [
        "list(map(lambda num: num%2==0,listt))      #we can say  map function maps to every single object"
      ],
      "execution_count": 52,
      "outputs": [
        {
          "output_type": "execute_result",
          "data": {
            "text/plain": [
              "[False, True, False, True, False, True, False, True, False, True, True, True]"
            ]
          },
          "metadata": {
            "tags": []
          },
          "execution_count": 52
        }
      ]
    }
  ]
}