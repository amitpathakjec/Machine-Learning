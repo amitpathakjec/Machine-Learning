{
  "nbformat": 4,
  "nbformat_minor": 0,
  "metadata": {
    "colab": {
      "name": "List_Comprehension & String_Formatting",
      "provenance": [],
      "collapsed_sections": [
        "b1Mde1vPjJLD"
      ],
      "authorship_tag": "ABX9TyMGBmrPMlbYdJBL2wZlwSAi",
      "include_colab_link": true
    },
    "kernelspec": {
      "name": "python3",
      "display_name": "Python 3"
    }
  },
  "cells": [
    {
      "cell_type": "markdown",
      "metadata": {
        "id": "view-in-github",
        "colab_type": "text"
      },
      "source": [
        "<a href=\"https://colab.research.google.com/github/amitpathakjec/Machine-Learning/blob/master/List_Comprehension_%26_String_Formatting.ipynb\" target=\"_parent\"><img src=\"https://colab.research.google.com/assets/colab-badge.svg\" alt=\"Open In Colab\"/></a>"
      ]
    },
    {
      "cell_type": "markdown",
      "metadata": {
        "id": "b1Mde1vPjJLD",
        "colab_type": "text"
      },
      "source": [
        "### **List Comprehension**\n",
        "List comprehension provides a  concise\n",
        "(very easy) way to  ceate lists. It consists of brackets containing  an expression followed  by a for clause, then zero or more for or if clauses. The expression can be anything, meaning you can put in all kinds of objects in lists."
      ]
    },
    {
      "cell_type": "code",
      "metadata": {
        "id": "9nqPMkwRjIHK",
        "colab_type": "code",
        "colab": {}
      },
      "source": [
        "lst1 = []\n",
        "def list_square(lst):\n",
        "  for i  in lst:\n",
        "    lst1.append(i*i)\n",
        "  return lst1 "
      ],
      "execution_count": 0,
      "outputs": []
    },
    {
      "cell_type": "code",
      "metadata": {
        "id": "q7ux0RY6kIp1",
        "colab_type": "code",
        "colab": {
          "base_uri": "https://localhost:8080/",
          "height": 34
        },
        "outputId": "2597681a-42cf-4013-aca9-3ddabb0da176"
      },
      "source": [
        "list_square([1,2,3,4,5,6])"
      ],
      "execution_count": 2,
      "outputs": [
        {
          "output_type": "execute_result",
          "data": {
            "text/plain": [
              "[1, 4, 9, 16, 25, 36]"
            ]
          },
          "metadata": {
            "tags": []
          },
          "execution_count": 2
        }
      ]
    },
    {
      "cell_type": "code",
      "metadata": {
        "id": "Kuh9UcbekM7s",
        "colab_type": "code",
        "colab": {
          "base_uri": "https://localhost:8080/",
          "height": 34
        },
        "outputId": "6d29e8eb-b1fb-4d3e-9715-5b96aed8a370"
      },
      "source": [
        "# Using list comprehension\n",
        "list_1 = [1,2,3,4,5,6,7,8]\n",
        "[i*i for i in list_1]"
      ],
      "execution_count": 3,
      "outputs": [
        {
          "output_type": "execute_result",
          "data": {
            "text/plain": [
              "[1, 4, 9, 16, 25, 36, 49, 64]"
            ]
          },
          "metadata": {
            "tags": []
          },
          "execution_count": 3
        }
      ]
    },
    {
      "cell_type": "code",
      "metadata": {
        "id": "Au8EPUtAksZx",
        "colab_type": "code",
        "colab": {
          "base_uri": "https://localhost:8080/",
          "height": 34
        },
        "outputId": "73735914-3820-47e3-9d0a-79dd439fcb78"
      },
      "source": [
        "[i*2 for i in list_1]"
      ],
      "execution_count": 4,
      "outputs": [
        {
          "output_type": "execute_result",
          "data": {
            "text/plain": [
              "[2, 4, 6, 8, 10, 12, 14, 16]"
            ]
          },
          "metadata": {
            "tags": []
          },
          "execution_count": 4
        }
      ]
    },
    {
      "cell_type": "code",
      "metadata": {
        "id": "50MvXBF2kzCJ",
        "colab_type": "code",
        "colab": {
          "base_uri": "https://localhost:8080/",
          "height": 34
        },
        "outputId": "65b1f7ed-97ef-4d00-cff5-df6e578da800"
      },
      "source": [
        "[i*i for i in list_1 if i%2==0]"
      ],
      "execution_count": 5,
      "outputs": [
        {
          "output_type": "execute_result",
          "data": {
            "text/plain": [
              "[4, 16, 36, 64]"
            ]
          },
          "metadata": {
            "tags": []
          },
          "execution_count": 5
        }
      ]
    },
    {
      "cell_type": "markdown",
      "metadata": {
        "id": "ElsjTTsUlhVl",
        "colab_type": "text"
      },
      "source": [
        "### **String Formatting in Python**"
      ]
    },
    {
      "cell_type": "code",
      "metadata": {
        "id": "-C3Srx9qlJ8v",
        "colab_type": "code",
        "colab": {
          "base_uri": "https://localhost:8080/",
          "height": 34
        },
        "outputId": "a9711aaa-f6f6-424f-bb7a-2fd5fcd1fdb9"
      },
      "source": [
        "print(\"Hello everyone!\")"
      ],
      "execution_count": 6,
      "outputs": [
        {
          "output_type": "stream",
          "text": [
            "Hello everyone!\n"
          ],
          "name": "stdout"
        }
      ]
    },
    {
      "cell_type": "code",
      "metadata": {
        "id": "0bSpBxTsmGFs",
        "colab_type": "code",
        "colab": {}
      },
      "source": [
        "strs = \"Hello World!\""
      ],
      "execution_count": 0,
      "outputs": []
    },
    {
      "cell_type": "code",
      "metadata": {
        "id": "fTuoTdkbmIiy",
        "colab_type": "code",
        "colab": {}
      },
      "source": [
        "def greeting(name):\n",
        "  return \"Hello {} welcome to the community\".format(name)\n",
        "# \"{}\" gets replaced by \"xyz\" from [.format( \"xyz\" )]   "
      ],
      "execution_count": 0,
      "outputs": []
    },
    {
      "cell_type": "code",
      "metadata": {
        "id": "MLxTKZ7FmdZi",
        "colab_type": "code",
        "colab": {
          "base_uri": "https://localhost:8080/",
          "height": 34
        },
        "outputId": "48198231-95a8-4760-c256-9d3e44de6ae5"
      },
      "source": [
        "greeting(\"Amit\")"
      ],
      "execution_count": 15,
      "outputs": [
        {
          "output_type": "execute_result",
          "data": {
            "text/plain": [
              "'Hello Amit welcome to the community'"
            ]
          },
          "metadata": {
            "tags": []
          },
          "execution_count": 15
        }
      ]
    },
    {
      "cell_type": "code",
      "metadata": {
        "id": "ZJCiXuDkms-P",
        "colab_type": "code",
        "colab": {}
      },
      "source": [
        "def welcome(name,age):\n",
        "  return \"Welcome {name} your age is {age}\".format(name=name,age=age)"
      ],
      "execution_count": 0,
      "outputs": []
    },
    {
      "cell_type": "code",
      "metadata": {
        "id": "MVYZFf2vpdVb",
        "colab_type": "code",
        "colab": {
          "base_uri": "https://localhost:8080/",
          "height": 34
        },
        "outputId": "98f82b3d-6a83-4eb4-ede3-ea97031deac5"
      },
      "source": [
        "welcome(\"Amit\",\"21\")"
      ],
      "execution_count": 19,
      "outputs": [
        {
          "output_type": "execute_result",
          "data": {
            "text/plain": [
              "'Welcome Amit your age is 21'"
            ]
          },
          "metadata": {
            "tags": []
          },
          "execution_count": 19
        }
      ]
    },
    {
      "cell_type": "code",
      "metadata": {
        "id": "PatIqxz7pifS",
        "colab_type": "code",
        "colab": {
          "base_uri": "https://localhost:8080/",
          "height": 34
        },
        "outputId": "350052a8-e643-45bf-fa50-f1106b785bd1"
      },
      "source": [
        "welcome(\"buddy\",100)"
      ],
      "execution_count": 20,
      "outputs": [
        {
          "output_type": "execute_result",
          "data": {
            "text/plain": [
              "'Welcome buddy your age is 100'"
            ]
          },
          "metadata": {
            "tags": []
          },
          "execution_count": 20
        }
      ]
    }
  ]
}