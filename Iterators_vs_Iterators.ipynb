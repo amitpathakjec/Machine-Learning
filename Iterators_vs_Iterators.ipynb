{
  "nbformat": 4,
  "nbformat_minor": 0,
  "metadata": {
    "colab": {
      "name": "Iterators vs Iterators",
      "provenance": [],
      "authorship_tag": "ABX9TyP2U5+bFSzdTFMRcDGyztLU",
      "include_colab_link": true
    },
    "kernelspec": {
      "name": "python3",
      "display_name": "Python 3"
    }
  },
  "cells": [
    {
      "cell_type": "markdown",
      "metadata": {
        "id": "view-in-github",
        "colab_type": "text"
      },
      "source": [
        "<a href=\"https://colab.research.google.com/github/amitpathakjec/Machine-Learning/blob/master/Iterators_vs_Iterators.ipynb\" target=\"_parent\"><img src=\"https://colab.research.google.com/assets/colab-badge.svg\" alt=\"Open In Colab\"/></a>"
      ]
    },
    {
      "cell_type": "markdown",
      "metadata": {
        "id": "KLXlXsfEvHNM",
        "colab_type": "text"
      },
      "source": [
        "### **Python List Iterables vs Iterators**"
      ]
    },
    {
      "cell_type": "code",
      "metadata": {
        "id": "fA1ZK7uEvGYA",
        "colab_type": "code",
        "colab": {
          "base_uri": "https://localhost:8080/",
          "height": 187
        },
        "outputId": "1bf5e2d9-6171-4e50-e13e-32f01fb7b6f4"
      },
      "source": [
        "# List is Iterable\n",
        "\n",
        "list_1 = [1,2,3,4,5,6,7,8,9,10]\n",
        "\n",
        "for i in list_1:\n",
        "  print(i)"
      ],
      "execution_count": 1,
      "outputs": [
        {
          "output_type": "stream",
          "text": [
            "1\n",
            "2\n",
            "3\n",
            "4\n",
            "5\n",
            "6\n",
            "7\n",
            "8\n",
            "9\n",
            "10\n"
          ],
          "name": "stdout"
        }
      ]
    },
    {
      "cell_type": "code",
      "metadata": {
        "id": "tGxw0E_SvfOe",
        "colab_type": "code",
        "colab": {}
      },
      "source": [
        "# Inbuilt function iter\n",
        "\n",
        "listt = iter(list_1)"
      ],
      "execution_count": 0,
      "outputs": []
    },
    {
      "cell_type": "code",
      "metadata": {
        "id": "klEcgRUgv2hR",
        "colab_type": "code",
        "colab": {
          "base_uri": "https://localhost:8080/",
          "height": 34
        },
        "outputId": "626fb452-0c55-4f86-ea69-3003935a7c66"
      },
      "source": [
        "# iterable is stored in iterator using iter function\n",
        "listt"
      ],
      "execution_count": 15,
      "outputs": [
        {
          "output_type": "execute_result",
          "data": {
            "text/plain": [
              "<list_iterator at 0x7f8a20e608d0>"
            ]
          },
          "metadata": {
            "tags": []
          },
          "execution_count": 15
        }
      ]
    },
    {
      "cell_type": "code",
      "metadata": {
        "id": "Bjr5yKa1wP1J",
        "colab_type": "code",
        "colab": {
          "base_uri": "https://localhost:8080/",
          "height": 34
        },
        "outputId": "03cafda4-a983-4898-b518-1d4a87942589"
      },
      "source": [
        "# Inbuilt function next to retreive the elements one by one \n",
        "next(listt)"
      ],
      "execution_count": 16,
      "outputs": [
        {
          "output_type": "execute_result",
          "data": {
            "text/plain": [
              "1"
            ]
          },
          "metadata": {
            "tags": []
          },
          "execution_count": 16
        }
      ]
    },
    {
      "cell_type": "code",
      "metadata": {
        "id": "_SqaGc07wvwn",
        "colab_type": "code",
        "colab": {
          "base_uri": "https://localhost:8080/",
          "height": 34
        },
        "outputId": "1e988426-180b-4993-f285-1f3ec3c2a8d5"
      },
      "source": [
        "next(listt)"
      ],
      "execution_count": 17,
      "outputs": [
        {
          "output_type": "execute_result",
          "data": {
            "text/plain": [
              "2"
            ]
          },
          "metadata": {
            "tags": []
          },
          "execution_count": 17
        }
      ]
    },
    {
      "cell_type": "code",
      "metadata": {
        "id": "h-8eDN58w7Jz",
        "colab_type": "code",
        "colab": {
          "base_uri": "https://localhost:8080/",
          "height": 34
        },
        "outputId": "7581f50a-5e97-4886-9139-4b2b2f366634"
      },
      "source": [
        "next(listt)"
      ],
      "execution_count": 18,
      "outputs": [
        {
          "output_type": "execute_result",
          "data": {
            "text/plain": [
              "3"
            ]
          },
          "metadata": {
            "tags": []
          },
          "execution_count": 18
        }
      ]
    },
    {
      "cell_type": "code",
      "metadata": {
        "id": "5_rUbITsxA-O",
        "colab_type": "code",
        "colab": {}
      },
      "source": [
        "# for loop can be applied for iterables as well  as iterators\n",
        "for i in listt:\n",
        "  print(i) "
      ],
      "execution_count": 0,
      "outputs": []
    },
    {
      "cell_type": "code",
      "metadata": {
        "id": "i4eWOxBGyEAf",
        "colab_type": "code",
        "colab": {}
      },
      "source": [
        "# there is also a way called geneator which we will discuss later."
      ],
      "execution_count": 0,
      "outputs": []
    }
  ]
}