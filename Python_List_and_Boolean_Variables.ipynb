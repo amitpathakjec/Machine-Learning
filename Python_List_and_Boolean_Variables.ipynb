{
  "nbformat": 4,
  "nbformat_minor": 0,
  "metadata": {
    "colab": {
      "name": "Python List and Boolean Variables",
      "provenance": [],
      "collapsed_sections": [
        "DP_O5auYo_mo",
        "cBUS-27Xoh0j",
        "gZVVx6EVqhcW",
        "IDkvjTbZCYPX",
        "AgCIvndbG-gK",
        "1G0qy7ZHhJMn"
      ],
      "authorship_tag": "ABX9TyO8p+fJ363rUfBPLRZZBFZ3",
      "include_colab_link": true
    },
    "kernelspec": {
      "name": "python3",
      "display_name": "Python 3"
    }
  },
  "cells": [
    {
      "cell_type": "markdown",
      "metadata": {
        "id": "view-in-github",
        "colab_type": "text"
      },
      "source": [
        "<a href=\"https://colab.research.google.com/github/amitpathakjec/Machine-Learning/blob/master/Python_List_and_Boolean_Variables.ipynb\" target=\"_parent\"><img src=\"https://colab.research.google.com/assets/colab-badge.svg\" alt=\"Open In Colab\"/></a>"
      ]
    },
    {
      "cell_type": "markdown",
      "metadata": {
        "id": "fRiSXs8biIIg",
        "colab_type": "text"
      },
      "source": [
        "### **Python Data Structures and Boolean**\n",
        "\n",
        "\n",
        "*   Boolean\n",
        "*   Boolean and Logical Operators\n",
        "*   Lists\n",
        "*   Dictionaries\n",
        "*   Tuples\n",
        "*   Sets\n",
        "\n",
        "\n",
        "\n",
        "\n",
        "\n",
        "\n",
        "\n",
        "\n",
        "\n",
        "\n"
      ]
    },
    {
      "cell_type": "markdown",
      "metadata": {
        "id": "DP_O5auYo_mo",
        "colab_type": "text"
      },
      "source": [
        "### Boolean Variables\n",
        "Boolean values are two constant objects False and True.\n",
        "\n",
        "They are used to represent truth values(Other values can also be considered false or true).\n",
        "\n",
        "True:1 and False:0 in numeric context\n",
        "\n",
        "The built-in function bool() can be used to cast any value to Boolean.*italicized text*"
      ]
    },
    {
      "cell_type": "code",
      "metadata": {
        "id": "PzlXwKnOk1ga",
        "colab_type": "code",
        "colab": {
          "base_uri": "https://localhost:8080/",
          "height": 0
        },
        "outputId": "24153c72-380d-4fc5-a93b-90ca2116f8d8"
      },
      "source": [
        "False"
      ],
      "execution_count": 101,
      "outputs": [
        {
          "output_type": "execute_result",
          "data": {
            "text/plain": [
              "False"
            ]
          },
          "metadata": {
            "tags": []
          },
          "execution_count": 101
        }
      ]
    },
    {
      "cell_type": "code",
      "metadata": {
        "id": "r06jDM1HlEKz",
        "colab_type": "code",
        "colab": {
          "base_uri": "https://localhost:8080/",
          "height": 0
        },
        "outputId": "02a8c570-ec91-48c1-bde4-c78fa5ca676a"
      },
      "source": [
        "True"
      ],
      "execution_count": 102,
      "outputs": [
        {
          "output_type": "execute_result",
          "data": {
            "text/plain": [
              "True"
            ]
          },
          "metadata": {
            "tags": []
          },
          "execution_count": 102
        }
      ]
    },
    {
      "cell_type": "code",
      "metadata": {
        "id": "Y29MGDsSlEzj",
        "colab_type": "code",
        "colab": {
          "base_uri": "https://localhost:8080/",
          "height": 0
        },
        "outputId": "f3460e93-f4d3-4a07-87c5-524f53a27020"
      },
      "source": [
        "print(True, False)"
      ],
      "execution_count": 103,
      "outputs": [
        {
          "output_type": "stream",
          "text": [
            "True False\n"
          ],
          "name": "stdout"
        }
      ]
    },
    {
      "cell_type": "code",
      "metadata": {
        "id": "83NkJL6QlKA6",
        "colab_type": "code",
        "colab": {
          "base_uri": "https://localhost:8080/",
          "height": 0
        },
        "outputId": "c63ed6ff-a910-4b08-b619-2abfcaf719ef"
      },
      "source": [
        "type(False)"
      ],
      "execution_count": 104,
      "outputs": [
        {
          "output_type": "execute_result",
          "data": {
            "text/plain": [
              "bool"
            ]
          },
          "metadata": {
            "tags": []
          },
          "execution_count": 104
        }
      ]
    },
    {
      "cell_type": "code",
      "metadata": {
        "id": "8QMn4qMLlHvB",
        "colab_type": "code",
        "colab": {
          "base_uri": "https://localhost:8080/",
          "height": 0
        },
        "outputId": "c58717a7-f932-4e0f-b7da-ed2705b10c4e"
      },
      "source": [
        "type(True)"
      ],
      "execution_count": 105,
      "outputs": [
        {
          "output_type": "execute_result",
          "data": {
            "text/plain": [
              "bool"
            ]
          },
          "metadata": {
            "tags": []
          },
          "execution_count": 105
        }
      ]
    },
    {
      "cell_type": "code",
      "metadata": {
        "id": "qUob3ftBlLql",
        "colab_type": "code",
        "colab": {}
      },
      "source": [
        "my_str = \"Amit Pathak\""
      ],
      "execution_count": 0,
      "outputs": []
    },
    {
      "cell_type": "code",
      "metadata": {
        "id": "kyBZZ2RSlVAs",
        "colab_type": "code",
        "colab": {
          "base_uri": "https://localhost:8080/",
          "height": 0
        },
        "outputId": "a82d5ba5-37eb-4c43-a5cc-56dee1671c52"
      },
      "source": [
        "print(my_str.isalnum())               \n",
        "print(my_str.isalpha())\n",
        "print(my_str.isdigit())\n",
        "print(my_str.istitle())   # test if string conttains title word i.e., Capital letter\n",
        "print(my_str.isupper())\n",
        "print(my_str.islower())\n",
        "print(my_str.isspace())\n",
        "print(my_str.startswith('A'))\n",
        "print(my_str.endswith('k'))"
      ],
      "execution_count": 107,
      "outputs": [
        {
          "output_type": "stream",
          "text": [
            "False\n",
            "False\n",
            "False\n",
            "True\n",
            "False\n",
            "False\n",
            "False\n",
            "True\n",
            "True\n"
          ],
          "name": "stdout"
        }
      ]
    },
    {
      "cell_type": "markdown",
      "metadata": {
        "id": "cBUS-27Xoh0j",
        "colab_type": "text"
      },
      "source": [
        "### Boolean and Logical Operators\n",
        "\n",
        "*   and\n",
        "*   or\n",
        "*   not\n"
      ]
    },
    {
      "cell_type": "code",
      "metadata": {
        "id": "FIwhFOh1oxAm",
        "colab_type": "code",
        "colab": {
          "base_uri": "https://localhost:8080/",
          "height": 0
        },
        "outputId": "c2739846-5f6b-470b-cde9-b73e7929153d"
      },
      "source": [
        "True and True"
      ],
      "execution_count": 108,
      "outputs": [
        {
          "output_type": "execute_result",
          "data": {
            "text/plain": [
              "True"
            ]
          },
          "metadata": {
            "tags": []
          },
          "execution_count": 108
        }
      ]
    },
    {
      "cell_type": "code",
      "metadata": {
        "id": "CYMCHAJUpjKy",
        "colab_type": "code",
        "colab": {
          "base_uri": "https://localhost:8080/",
          "height": 0
        },
        "outputId": "89f6d370-b631-4544-a28f-3d8dc183f096"
      },
      "source": [
        "True and False"
      ],
      "execution_count": 109,
      "outputs": [
        {
          "output_type": "execute_result",
          "data": {
            "text/plain": [
              "False"
            ]
          },
          "metadata": {
            "tags": []
          },
          "execution_count": 109
        }
      ]
    },
    {
      "cell_type": "code",
      "metadata": {
        "id": "xpQ9RU7Upmab",
        "colab_type": "code",
        "colab": {
          "base_uri": "https://localhost:8080/",
          "height": 0
        },
        "outputId": "ebefda88-b2a7-432d-bb6e-9b5ae6f529a4"
      },
      "source": [
        "True or False"
      ],
      "execution_count": 110,
      "outputs": [
        {
          "output_type": "execute_result",
          "data": {
            "text/plain": [
              "True"
            ]
          },
          "metadata": {
            "tags": []
          },
          "execution_count": 110
        }
      ]
    },
    {
      "cell_type": "code",
      "metadata": {
        "id": "lUv8IxmvpoFC",
        "colab_type": "code",
        "colab": {
          "base_uri": "https://localhost:8080/",
          "height": 0
        },
        "outputId": "778ac4af-c9f8-4757-cabb-fd7a35eee45e"
      },
      "source": [
        "True or True"
      ],
      "execution_count": 111,
      "outputs": [
        {
          "output_type": "execute_result",
          "data": {
            "text/plain": [
              "True"
            ]
          },
          "metadata": {
            "tags": []
          },
          "execution_count": 111
        }
      ]
    },
    {
      "cell_type": "code",
      "metadata": {
        "id": "rVbtGrF6pqiE",
        "colab_type": "code",
        "colab": {}
      },
      "source": [
        "my_str = \"Amit\"\n",
        "Example_str = \"Helloworld\""
      ],
      "execution_count": 0,
      "outputs": []
    },
    {
      "cell_type": "code",
      "metadata": {
        "id": "XRcKNikNp_xm",
        "colab_type": "code",
        "colab": {
          "base_uri": "https://localhost:8080/",
          "height": 0
        },
        "outputId": "dea19e5f-0534-4532-b349-22e0979fec7a"
      },
      "source": [
        "my_str.isalnum() or Example_str.isalpha()"
      ],
      "execution_count": 113,
      "outputs": [
        {
          "output_type": "execute_result",
          "data": {
            "text/plain": [
              "True"
            ]
          },
          "metadata": {
            "tags": []
          },
          "execution_count": 113
        }
      ]
    },
    {
      "cell_type": "markdown",
      "metadata": {
        "id": "gZVVx6EVqhcW",
        "colab_type": "text"
      },
      "source": [
        "### Lists\n",
        "List is a data structure in python. List is mutable orderded sequence of elements.\n",
        "\n",
        "Ecah value that is  inside a list is called a item.\n",
        "\n"
      ]
    },
    {
      "cell_type": "code",
      "metadata": {
        "id": "YdD7hQvkqoes",
        "colab_type": "code",
        "colab": {}
      },
      "source": [
        "list_example = []"
      ],
      "execution_count": 0,
      "outputs": []
    },
    {
      "cell_type": "code",
      "metadata": {
        "id": "8fHnTsWXr4XA",
        "colab_type": "code",
        "colab": {
          "base_uri": "https://localhost:8080/",
          "height": 0
        },
        "outputId": "51f761a4-5c4c-46cb-b308-608753ec3319"
      },
      "source": [
        "type(list_example)"
      ],
      "execution_count": 115,
      "outputs": [
        {
          "output_type": "execute_result",
          "data": {
            "text/plain": [
              "list"
            ]
          },
          "metadata": {
            "tags": []
          },
          "execution_count": 115
        }
      ]
    },
    {
      "cell_type": "code",
      "metadata": {
        "id": "2iaAKx6Lr6zt",
        "colab_type": "code",
        "colab": {}
      },
      "source": [
        "L1 = list()"
      ],
      "execution_count": 0,
      "outputs": []
    },
    {
      "cell_type": "code",
      "metadata": {
        "id": "6DNOQDcqr_pB",
        "colab_type": "code",
        "colab": {
          "base_uri": "https://localhost:8080/",
          "height": 0
        },
        "outputId": "4a597a0c-4b13-4e35-b417-c2d41f722522"
      },
      "source": [
        "type(L1)"
      ],
      "execution_count": 117,
      "outputs": [
        {
          "output_type": "execute_result",
          "data": {
            "text/plain": [
              "list"
            ]
          },
          "metadata": {
            "tags": []
          },
          "execution_count": 117
        }
      ]
    },
    {
      "cell_type": "code",
      "metadata": {
        "id": "I6otST-dsEKG",
        "colab_type": "code",
        "colab": {}
      },
      "source": [
        ""
      ],
      "execution_count": 0,
      "outputs": []
    },
    {
      "cell_type": "markdown",
      "metadata": {
        "id": "dumNaqtQsGBX",
        "colab_type": "text"
      },
      "source": [
        "**Inbuild functions in list:**\n",
        "\n",
        "\n",
        "*   append\n",
        "*   insert\n",
        "*   extend\n"
      ]
    },
    {
      "cell_type": "code",
      "metadata": {
        "id": "IRaEvqirsImE",
        "colab_type": "code",
        "colab": {
          "base_uri": "https://localhost:8080/",
          "height": 0
        },
        "outputId": "7cb7aa22-86a9-4266-b878-aaffacb09714"
      },
      "source": [
        "# append: this means to add an element at the end of the list\n",
        "L1.append('Amit')\n",
        "print(L1)\n",
        "L1.append([1,2,3,4]) # nested list is formed\n",
        "print(L1)"
      ],
      "execution_count": 118,
      "outputs": [
        {
          "output_type": "stream",
          "text": [
            "['Amit']\n",
            "['Amit', [1, 2, 3, 4]]\n"
          ],
          "name": "stdout"
        }
      ]
    },
    {
      "cell_type": "code",
      "metadata": {
        "id": "37kqPY4gsJRd",
        "colab_type": "code",
        "colab": {
          "base_uri": "https://localhost:8080/",
          "height": 0
        },
        "outputId": "6a4044be-4dd1-4622-8c52-4ec58e23b725"
      },
      "source": [
        "# Indexing in list\n",
        "list1 = [1,2,'maths','chemistry',204,'Amit']\n",
        "print(list1[3])"
      ],
      "execution_count": 119,
      "outputs": [
        {
          "output_type": "stream",
          "text": [
            "chemistry\n"
          ],
          "name": "stdout"
        }
      ]
    },
    {
      "cell_type": "code",
      "metadata": {
        "id": "y2xxo8gr-Inn",
        "colab_type": "code",
        "colab": {
          "base_uri": "https://localhost:8080/",
          "height": 0
        },
        "outputId": "2dbb7501-4bbc-4310-e3e9-2b9b4a8349fd"
      },
      "source": [
        "print(list1[:3])\n",
        "print(list1[1:3])"
      ],
      "execution_count": 120,
      "outputs": [
        {
          "output_type": "stream",
          "text": [
            "[1, 2, 'maths']\n",
            "[2, 'maths']\n"
          ],
          "name": "stdout"
        }
      ]
    },
    {
      "cell_type": "code",
      "metadata": {
        "id": "ee3XCAhZtB33",
        "colab_type": "code",
        "colab": {
          "base_uri": "https://localhost:8080/",
          "height": 0
        },
        "outputId": "7c6c4bf8-54fe-413a-812f-762426c05426"
      },
      "source": [
        "# insert in a specific order\n",
        "list1.insert(2,\"Physics\")\n",
        "print(list1)"
      ],
      "execution_count": 121,
      "outputs": [
        {
          "output_type": "stream",
          "text": [
            "[1, 2, 'Physics', 'maths', 'chemistry', 204, 'Amit']\n"
          ],
          "name": "stdout"
        }
      ]
    },
    {
      "cell_type": "code",
      "metadata": {
        "id": "OR5TZLYO_SLz",
        "colab_type": "code",
        "colab": {
          "base_uri": "https://localhost:8080/",
          "height": 0
        },
        "outputId": "dc959efa-d0d7-4a12-88f0-141229a77873"
      },
      "source": [
        "# Extend method\n",
        "list2 = [1,2,3,4,5]\n",
        "list2.extend([6,7,8,9])\n",
        "print(list2)"
      ],
      "execution_count": 122,
      "outputs": [
        {
          "output_type": "stream",
          "text": [
            "[1, 2, 3, 4, 5, 6, 7, 8, 9]\n"
          ],
          "name": "stdout"
        }
      ]
    },
    {
      "cell_type": "markdown",
      "metadata": {
        "id": "UxaOczffAp8o",
        "colab_type": "text"
      },
      "source": [
        "**Various operations on the list:**\n",
        "\n",
        "\n",
        "*   sum(list)\n",
        "*   list.pop()\n",
        "*   list.count(item)\n",
        "*   len(list)\n",
        "*   min(list)\n",
        "*   max(list)\n",
        "*   List.index(item)\n",
        "\n",
        "\n",
        "\n"
      ]
    },
    {
      "cell_type": "code",
      "metadata": {
        "id": "cUW9-zfc_nyG",
        "colab_type": "code",
        "colab": {
          "base_uri": "https://localhost:8080/",
          "height": 0
        },
        "outputId": "25f9e3de-2216-4652-950f-2120df407eaa"
      },
      "source": [
        "list3 = [1,2,3,4,5]\n",
        "sum(list3)"
      ],
      "execution_count": 123,
      "outputs": [
        {
          "output_type": "execute_result",
          "data": {
            "text/plain": [
              "15"
            ]
          },
          "metadata": {
            "tags": []
          },
          "execution_count": 123
        }
      ]
    },
    {
      "cell_type": "code",
      "metadata": {
        "id": "7UsIOjx7BBkZ",
        "colab_type": "code",
        "colab": {
          "base_uri": "https://localhost:8080/",
          "height": 0
        },
        "outputId": "92f0155a-7cd9-4d51-8d74-634b3d6b0170"
      },
      "source": [
        "list3.pop()\n",
        "print(list3)"
      ],
      "execution_count": 124,
      "outputs": [
        {
          "output_type": "stream",
          "text": [
            "[1, 2, 3, 4]\n"
          ],
          "name": "stdout"
        }
      ]
    },
    {
      "cell_type": "code",
      "metadata": {
        "id": "fB_eHV_bBGRt",
        "colab_type": "code",
        "colab": {
          "base_uri": "https://localhost:8080/",
          "height": 0
        },
        "outputId": "22232d20-5da0-4f83-a9fe-324358994265"
      },
      "source": [
        "list3.pop(0)"
      ],
      "execution_count": 125,
      "outputs": [
        {
          "output_type": "execute_result",
          "data": {
            "text/plain": [
              "1"
            ]
          },
          "metadata": {
            "tags": []
          },
          "execution_count": 125
        }
      ]
    },
    {
      "cell_type": "code",
      "metadata": {
        "id": "jrhTBsmDBLxt",
        "colab_type": "code",
        "colab": {
          "base_uri": "https://localhost:8080/",
          "height": 0
        },
        "outputId": "3557aa6b-b56c-4825-e0f9-32292d5a355a"
      },
      "source": [
        "len(list3)"
      ],
      "execution_count": 126,
      "outputs": [
        {
          "output_type": "execute_result",
          "data": {
            "text/plain": [
              "3"
            ]
          },
          "metadata": {
            "tags": []
          },
          "execution_count": 126
        }
      ]
    },
    {
      "cell_type": "code",
      "metadata": {
        "id": "WT5TuqbdBS3T",
        "colab_type": "code",
        "colab": {
          "base_uri": "https://localhost:8080/",
          "height": 0
        },
        "outputId": "4604a7e7-12a9-45fd-a487-5212403b2b71"
      },
      "source": [
        "list4 = [1,2,3,4,5,6,1,2,3,4,1,2,3,1,2]\n",
        "list4.count(1)"
      ],
      "execution_count": 127,
      "outputs": [
        {
          "output_type": "execute_result",
          "data": {
            "text/plain": [
              "4"
            ]
          },
          "metadata": {
            "tags": []
          },
          "execution_count": 127
        }
      ]
    },
    {
      "cell_type": "code",
      "metadata": {
        "id": "SLNEtgtQBjI_",
        "colab_type": "code",
        "colab": {
          "base_uri": "https://localhost:8080/",
          "height": 0
        },
        "outputId": "d2fca3da-b97e-4f4e-b7c1-ed54e6bc7a98"
      },
      "source": [
        "min(list4)"
      ],
      "execution_count": 128,
      "outputs": [
        {
          "output_type": "execute_result",
          "data": {
            "text/plain": [
              "1"
            ]
          },
          "metadata": {
            "tags": []
          },
          "execution_count": 128
        }
      ]
    },
    {
      "cell_type": "code",
      "metadata": {
        "id": "s28jLP-7BofY",
        "colab_type": "code",
        "colab": {
          "base_uri": "https://localhost:8080/",
          "height": 0
        },
        "outputId": "515bb5fb-68ee-4682-9be6-679a6ce7c630"
      },
      "source": [
        "max(list4)"
      ],
      "execution_count": 129,
      "outputs": [
        {
          "output_type": "execute_result",
          "data": {
            "text/plain": [
              "6"
            ]
          },
          "metadata": {
            "tags": []
          },
          "execution_count": 129
        }
      ]
    },
    {
      "cell_type": "code",
      "metadata": {
        "id": "Sub1KEI6B0cT",
        "colab_type": "code",
        "colab": {
          "base_uri": "https://localhost:8080/",
          "height": 0
        },
        "outputId": "0c3cf479-aa78-4aa5-d105-6bc99dd30314"
      },
      "source": [
        "list4.index(1)"
      ],
      "execution_count": 130,
      "outputs": [
        {
          "output_type": "execute_result",
          "data": {
            "text/plain": [
              "0"
            ]
          },
          "metadata": {
            "tags": []
          },
          "execution_count": 130
        }
      ]
    },
    {
      "cell_type": "code",
      "metadata": {
        "id": "F02uDDMNCNY0",
        "colab_type": "code",
        "colab": {
          "base_uri": "https://localhost:8080/",
          "height": 0
        },
        "outputId": "c3d3a7c6-f39a-4e8c-9a72-dfc8aadb6376"
      },
      "source": [
        "print(list4*2)\n"
      ],
      "execution_count": 131,
      "outputs": [
        {
          "output_type": "stream",
          "text": [
            "[1, 2, 3, 4, 5, 6, 1, 2, 3, 4, 1, 2, 3, 1, 2, 1, 2, 3, 4, 5, 6, 1, 2, 3, 4, 1, 2, 3, 1, 2]\n"
          ],
          "name": "stdout"
        }
      ]
    },
    {
      "cell_type": "markdown",
      "metadata": {
        "id": "IDkvjTbZCYPX",
        "colab_type": "text"
      },
      "source": [
        "### Sets\n",
        "\n",
        "A Set is a unordered collection of datatypes that are:\n",
        "*   Iterable\n",
        "*   Mutable\n",
        "*   Has no duplicates\n",
        "\n",
        "Python's Set class represents the mathematical notion of a set.\n",
        "\n",
        "This is based on the data structure known as hash table.\n",
        "\n",
        "\n"
      ]
    },
    {
      "cell_type": "code",
      "metadata": {
        "id": "aE2A2kaxCfZJ",
        "colab_type": "code",
        "colab": {
          "base_uri": "https://localhost:8080/",
          "height": 0
        },
        "outputId": "adbda76e-1bfb-46aa-8089-dd89d1d7fc54"
      },
      "source": [
        "# Defining an empty set\n",
        "\n",
        "set_1 = set()\n",
        "print(set_1)"
      ],
      "execution_count": 132,
      "outputs": [
        {
          "output_type": "stream",
          "text": [
            "set()\n"
          ],
          "name": "stdout"
        }
      ]
    },
    {
      "cell_type": "code",
      "metadata": {
        "id": "ud7N_ev-D357",
        "colab_type": "code",
        "colab": {
          "base_uri": "https://localhost:8080/",
          "height": 0
        },
        "outputId": "45272973-6d62-4f84-b144-714f78d987aa"
      },
      "source": [
        "type(set_1)"
      ],
      "execution_count": 133,
      "outputs": [
        {
          "output_type": "execute_result",
          "data": {
            "text/plain": [
              "set"
            ]
          },
          "metadata": {
            "tags": []
          },
          "execution_count": 133
        }
      ]
    },
    {
      "cell_type": "code",
      "metadata": {
        "id": "VO5eFzHYETeI",
        "colab_type": "code",
        "colab": {
          "base_uri": "https://localhost:8080/",
          "height": 0
        },
        "outputId": "11d1b3c5-0d83-4bec-a92a-656ce597df82"
      },
      "source": [
        "set_1 = {\"Avengers\", \"IronMan\", \"Hitman\"}\n",
        "print(set_1)\n",
        "type(set_1)"
      ],
      "execution_count": 134,
      "outputs": [
        {
          "output_type": "stream",
          "text": [
            "{'Hitman', 'Avengers', 'IronMan'}\n"
          ],
          "name": "stdout"
        },
        {
          "output_type": "execute_result",
          "data": {
            "text/plain": [
              "set"
            ]
          },
          "metadata": {
            "tags": []
          },
          "execution_count": 134
        }
      ]
    },
    {
      "cell_type": "code",
      "metadata": {
        "id": "f5SyNUKUFFm7",
        "colab_type": "code",
        "colab": {
          "base_uri": "https://localhost:8080/",
          "height": 0
        },
        "outputId": "90d067fd-f60f-4d6a-ef45-73c15958c3dc"
      },
      "source": [
        "set_2 = {1,2,3,4,1,2,3,1,2}\n",
        "print(set_2)\n",
        "# doesn't shows repeated ellements\n",
        "# Also there is NO INDEXING in sets"
      ],
      "execution_count": 135,
      "outputs": [
        {
          "output_type": "stream",
          "text": [
            "{1, 2, 3, 4}\n"
          ],
          "name": "stdout"
        }
      ]
    },
    {
      "cell_type": "markdown",
      "metadata": {
        "id": "2OUZ2MvjFo25",
        "colab_type": "text"
      },
      "source": [
        "**Inbuilt functions in sets**\n",
        "\n",
        "*   add\n",
        "*   difference\n",
        "*   intersection\n",
        "*   union\n",
        "*   isSubset\n",
        "*   etc.\n",
        "\n",
        "\n",
        "\n",
        "\n"
      ]
    },
    {
      "cell_type": "code",
      "metadata": {
        "id": "Hrn55YvAFlHE",
        "colab_type": "code",
        "colab": {
          "base_uri": "https://localhost:8080/",
          "height": 0
        },
        "outputId": "5f6d20ff-4b1e-446c-e574-fc358e4a4053"
      },
      "source": [
        "set_1.add(\"Hulk\")\n",
        "print(set_1)"
      ],
      "execution_count": 136,
      "outputs": [
        {
          "output_type": "stream",
          "text": [
            "{'Hitman', 'Avengers', 'IronMan', 'Hulk'}\n"
          ],
          "name": "stdout"
        }
      ]
    },
    {
      "cell_type": "code",
      "metadata": {
        "id": "y4MMG_jzGGw7",
        "colab_type": "code",
        "colab": {}
      },
      "source": [
        "set_1 = {\"Avengers\", \"IronMan\", \"Hitman\"}\n",
        "set_3 = {\"Avengers\", \"IronMan\", \"Hitman\", \"Hulk2\"}"
      ],
      "execution_count": 0,
      "outputs": []
    },
    {
      "cell_type": "code",
      "metadata": {
        "id": "zlD0WIAcGTI_",
        "colab_type": "code",
        "colab": {
          "base_uri": "https://localhost:8080/",
          "height": 0
        },
        "outputId": "69fa6a17-4bf7-4078-8762-f8e189e168ed"
      },
      "source": [
        "# difference\n",
        "set_3.difference(set_1)"
      ],
      "execution_count": 138,
      "outputs": [
        {
          "output_type": "execute_result",
          "data": {
            "text/plain": [
              "{'Hulk2'}"
            ]
          },
          "metadata": {
            "tags": []
          },
          "execution_count": 138
        }
      ]
    },
    {
      "cell_type": "code",
      "metadata": {
        "id": "fUXA32BnGf-e",
        "colab_type": "code",
        "colab": {
          "base_uri": "https://localhost:8080/",
          "height": 0
        },
        "outputId": "b7726bc3-23ad-47f0-b2e0-2eacbe0546b9"
      },
      "source": [
        "set_1.issubset(set_3)"
      ],
      "execution_count": 139,
      "outputs": [
        {
          "output_type": "execute_result",
          "data": {
            "text/plain": [
              "True"
            ]
          },
          "metadata": {
            "tags": []
          },
          "execution_count": 139
        }
      ]
    },
    {
      "cell_type": "markdown",
      "metadata": {
        "id": "AgCIvndbG-gK",
        "colab_type": "text"
      },
      "source": [
        "### Dictionaries\n",
        "A Dictionary is a collection which is:\n",
        "*   Unordered\n",
        "*   Changeable\n",
        "*   Indexed\n",
        "\n",
        "In Python dictionaries are written with curly brackets.\n",
        "\n",
        "Dictionaries have key-value pairs.\n",
        "\n",
        "\n",
        "\n",
        "\n"
      ]
    },
    {
      "cell_type": "code",
      "metadata": {
        "id": "Fld5pbcRHDyK",
        "colab_type": "code",
        "colab": {
          "base_uri": "https://localhost:8080/",
          "height": 51
        },
        "outputId": "14cc5765-e934-40b4-fbd1-324ff93e11ae"
      },
      "source": [
        "# Creating a ditionary\n",
        "dict_1 ={\"car1\":\"Audi\",\"car2\":\"BMW\", \"car3\":\"LR\"}\n",
        "print(type(dict_1))\n",
        "print(dict_1)"
      ],
      "execution_count": 140,
      "outputs": [
        {
          "output_type": "stream",
          "text": [
            "<class 'dict'>\n",
            "{'car1': 'Audi', 'car2': 'BMW', 'car3': 'LR'}\n"
          ],
          "name": "stdout"
        }
      ]
    },
    {
      "cell_type": "code",
      "metadata": {
        "id": "4uSURcrqYZM2",
        "colab_type": "code",
        "colab": {
          "base_uri": "https://localhost:8080/",
          "height": 34
        },
        "outputId": "04ff8cde-69bc-49fd-d657-07d6b601854f"
      },
      "source": [
        "# Access item values by using their keys\n",
        "dict_1[\"car1\"]"
      ],
      "execution_count": 141,
      "outputs": [
        {
          "output_type": "execute_result",
          "data": {
            "text/plain": [
              "'Audi'"
            ]
          },
          "metadata": {
            "tags": []
          },
          "execution_count": 141
        }
      ]
    },
    {
      "cell_type": "code",
      "metadata": {
        "id": "bi6sduQTYe_y",
        "colab_type": "code",
        "colab": {
          "base_uri": "https://localhost:8080/",
          "height": 68
        },
        "outputId": "8275ee97-8826-4224-dc9d-6977f2973c3c"
      },
      "source": [
        "for x in dict_1:\n",
        "  print(x)"
      ],
      "execution_count": 142,
      "outputs": [
        {
          "output_type": "stream",
          "text": [
            "car1\n",
            "car2\n",
            "car3\n"
          ],
          "name": "stdout"
        }
      ]
    },
    {
      "cell_type": "code",
      "metadata": {
        "id": "GccohfCpYkuU",
        "colab_type": "code",
        "colab": {
          "base_uri": "https://localhost:8080/",
          "height": 68
        },
        "outputId": "996cd143-2ec3-4396-bd70-74b17eeb7aa4"
      },
      "source": [
        "# we can loop through the dictinary keys too\n",
        "for x in dict_1.values():\n",
        "  print(x)"
      ],
      "execution_count": 143,
      "outputs": [
        {
          "output_type": "stream",
          "text": [
            "Audi\n",
            "BMW\n",
            "LR\n"
          ],
          "name": "stdout"
        }
      ]
    },
    {
      "cell_type": "code",
      "metadata": {
        "id": "vLzy7OLWei6-",
        "colab_type": "code",
        "colab": {
          "base_uri": "https://localhost:8080/",
          "height": 68
        },
        "outputId": "bcffa92f-5f89-43bc-8f08-e6fa9c764a51"
      },
      "source": [
        "for x in dict_1.items():\n",
        "  print(x)"
      ],
      "execution_count": 144,
      "outputs": [
        {
          "output_type": "stream",
          "text": [
            "('car1', 'Audi')\n",
            "('car2', 'BMW')\n",
            "('car3', 'LR')\n"
          ],
          "name": "stdout"
        }
      ]
    },
    {
      "cell_type": "code",
      "metadata": {
        "id": "Cr8lCfUlevpX",
        "colab_type": "code",
        "colab": {}
      },
      "source": [
        "# Adding items to Dictionaries\n",
        "dict_1['car4']:\"Tesla\"\n"
      ],
      "execution_count": 0,
      "outputs": []
    },
    {
      "cell_type": "code",
      "metadata": {
        "id": "XmFTmRu7fN7U",
        "colab_type": "code",
        "colab": {
          "base_uri": "https://localhost:8080/",
          "height": 34
        },
        "outputId": "7d948a6a-c8f7-4f6c-d97d-0164db2135d8"
      },
      "source": [
        "dict_1"
      ],
      "execution_count": 148,
      "outputs": [
        {
          "output_type": "execute_result",
          "data": {
            "text/plain": [
              "{'car1': 'Audi', 'car2': 'BMW', 'car3': 'LR'}"
            ]
          },
          "metadata": {
            "tags": []
          },
          "execution_count": 148
        }
      ]
    },
    {
      "cell_type": "code",
      "metadata": {
        "id": "zivC0pOvfhxC",
        "colab_type": "code",
        "colab": {
          "base_uri": "https://localhost:8080/",
          "height": 34
        },
        "outputId": "ed2d762f-2127-4773-f2f3-8e74190839e2"
      },
      "source": [
        "dict_1['car1']:\"Jaguar\"   # Gets override (Altough it didn't happened here.)\n",
        "dict_1"
      ],
      "execution_count": 152,
      "outputs": [
        {
          "output_type": "execute_result",
          "data": {
            "text/plain": [
              "{'car1': 'Audi', 'car2': 'BMW', 'car3': 'LR'}"
            ]
          },
          "metadata": {
            "tags": []
          },
          "execution_count": 152
        }
      ]
    },
    {
      "cell_type": "markdown",
      "metadata": {
        "id": "iZAMPhZUfYgM",
        "colab_type": "text"
      },
      "source": [
        "**Nested Dictionary**\n"
      ]
    },
    {
      "cell_type": "code",
      "metadata": {
        "id": "Re6w_slHfszh",
        "colab_type": "code",
        "colab": {}
      },
      "source": [
        "car1model = {'merceded':1960}\n",
        "car2model = {'audi':1970}\n",
        "car3model = {'BMW':1980}\n",
        "\n",
        "car_type = {'car1':car1model, 'car2':car2model, 'car3':car3model}"
      ],
      "execution_count": 0,
      "outputs": []
    },
    {
      "cell_type": "code",
      "metadata": {
        "id": "R8ySFOmpgmkk",
        "colab_type": "code",
        "colab": {
          "base_uri": "https://localhost:8080/",
          "height": 34
        },
        "outputId": "c16b4c1d-407e-40e6-db0e-4562bcf91cd4"
      },
      "source": [
        "print(car_type)"
      ],
      "execution_count": 155,
      "outputs": [
        {
          "output_type": "stream",
          "text": [
            "{'car1': {'merceded': 1960}, 'car2': {'audi': 1970}, 'car3': {'BMW': 1980}}\n"
          ],
          "name": "stdout"
        }
      ]
    },
    {
      "cell_type": "code",
      "metadata": {
        "id": "FQmalvzdgrO0",
        "colab_type": "code",
        "colab": {
          "base_uri": "https://localhost:8080/",
          "height": 34
        },
        "outputId": "911ba685-b073-49ff-b270-15a99b9f5ac6"
      },
      "source": [
        "# Accessing the item in the dictionary\n",
        "print(car_type['car2']['audi'])"
      ],
      "execution_count": 157,
      "outputs": [
        {
          "output_type": "stream",
          "text": [
            "1970\n"
          ],
          "name": "stdout"
        }
      ]
    },
    {
      "cell_type": "markdown",
      "metadata": {
        "id": "1G0qy7ZHhJMn",
        "colab_type": "text"
      },
      "source": [
        "### Tuples\n",
        "A tuple is another type of data structures in python.\n",
        "\n",
        "A tuple is basically a list of elements which are:\n",
        "\n",
        "\n",
        "*   Ordered\n",
        "*   Immutable\n",
        "*   Finite\n",
        "\n",
        "Tuples are used in such cases where the defined thing is required just once or only in the same form as it can't be changed.\n",
        "\n",
        "\n",
        "\n",
        "\n"
      ]
    },
    {
      "cell_type": "code",
      "metadata": {
        "id": "1-J_hsfYiJKP",
        "colab_type": "code",
        "colab": {}
      },
      "source": [
        "my_tuple = ('Amit', 'Pradumn', 'Pathak')"
      ],
      "execution_count": 0,
      "outputs": []
    },
    {
      "cell_type": "code",
      "metadata": {
        "id": "8orEf-CoicFv",
        "colab_type": "code",
        "colab": {
          "base_uri": "https://localhost:8080/",
          "height": 34
        },
        "outputId": "447cbb63-ff8c-4fc3-b89d-11a45857226a"
      },
      "source": [
        "type(my_tuple)"
      ],
      "execution_count": 160,
      "outputs": [
        {
          "output_type": "execute_result",
          "data": {
            "text/plain": [
              "tuple"
            ]
          },
          "metadata": {
            "tags": []
          },
          "execution_count": 160
        }
      ]
    },
    {
      "cell_type": "code",
      "metadata": {
        "id": "L99ejco7ie8t",
        "colab_type": "code",
        "colab": {
          "base_uri": "https://localhost:8080/",
          "height": 34
        },
        "outputId": "f6eb21a1-9143-48d8-e2d3-ec2884dc2042"
      },
      "source": [
        "my_tuple[0]"
      ],
      "execution_count": 161,
      "outputs": [
        {
          "output_type": "execute_result",
          "data": {
            "text/plain": [
              "'Amit'"
            ]
          },
          "metadata": {
            "tags": []
          },
          "execution_count": 161
        }
      ]
    },
    {
      "cell_type": "code",
      "metadata": {
        "id": "L8dusus7iiOB",
        "colab_type": "code",
        "colab": {}
      },
      "source": [
        "#'tuple' object does not support item assignment\n",
        "#my_tuple[1] = 'Raju'"
      ],
      "execution_count": 0,
      "outputs": []
    },
    {
      "cell_type": "code",
      "metadata": {
        "id": "t693l_U_imcZ",
        "colab_type": "code",
        "colab": {
          "base_uri": "https://localhost:8080/",
          "height": 34
        },
        "outputId": "4b14b0fe-9ec3-435d-ee72-e5e53763f53f"
      },
      "source": [
        "print(type(my_tuple))"
      ],
      "execution_count": 164,
      "outputs": [
        {
          "output_type": "stream",
          "text": [
            "<class 'tuple'>\n"
          ],
          "name": "stdout"
        }
      ]
    },
    {
      "cell_type": "code",
      "metadata": {
        "id": "pGDwo0LDizkr",
        "colab_type": "code",
        "colab": {
          "base_uri": "https://localhost:8080/",
          "height": 34
        },
        "outputId": "05c61dac-02eb-4b5b-e683-ccbc9849848d"
      },
      "source": [
        "print(my_tuple)"
      ],
      "execution_count": 165,
      "outputs": [
        {
          "output_type": "stream",
          "text": [
            "('Amit', 'Pradumn', 'Pathak')\n"
          ],
          "name": "stdout"
        }
      ]
    },
    {
      "cell_type": "code",
      "metadata": {
        "id": "ILsvCfITi1zx",
        "colab_type": "code",
        "colab": {}
      },
      "source": [
        "my_tuple = ('Hello', 'world')"
      ],
      "execution_count": 0,
      "outputs": []
    },
    {
      "cell_type": "code",
      "metadata": {
        "id": "4lHNGrfxi9dH",
        "colab_type": "code",
        "colab": {
          "base_uri": "https://localhost:8080/",
          "height": 34
        },
        "outputId": "d343cb42-740c-40db-c350-b5556e73a95a"
      },
      "source": [
        "print(my_tuple)"
      ],
      "execution_count": 167,
      "outputs": [
        {
          "output_type": "stream",
          "text": [
            "('Hello', 'world')\n"
          ],
          "name": "stdout"
        }
      ]
    },
    {
      "cell_type": "markdown",
      "metadata": {
        "id": "XX6ab_0YjVaf",
        "colab_type": "text"
      },
      "source": [
        "**Inbuit functions:**"
      ]
    },
    {
      "cell_type": "code",
      "metadata": {
        "id": "px5YruCdjBGQ",
        "colab_type": "code",
        "colab": {
          "base_uri": "https://localhost:8080/",
          "height": 34
        },
        "outputId": "f71fb8a4-8708-4ab6-db03-9c2759d7fc85"
      },
      "source": [
        "my_tuple.count('Amit')"
      ],
      "execution_count": 169,
      "outputs": [
        {
          "output_type": "execute_result",
          "data": {
            "text/plain": [
              "0"
            ]
          },
          "metadata": {
            "tags": []
          },
          "execution_count": 169
        }
      ]
    },
    {
      "cell_type": "code",
      "metadata": {
        "id": "K082zEZ-jerG",
        "colab_type": "code",
        "colab": {
          "base_uri": "https://localhost:8080/",
          "height": 51
        },
        "outputId": "8837f4cf-fc26-40da-8d08-3f3fc3cfc471"
      },
      "source": [
        "print(my_tuple.count('Hello'))\n",
        "print(my_tuple.index('world'))"
      ],
      "execution_count": 173,
      "outputs": [
        {
          "output_type": "stream",
          "text": [
            "1\n",
            "1\n"
          ],
          "name": "stdout"
        }
      ]
    }
  ]
}