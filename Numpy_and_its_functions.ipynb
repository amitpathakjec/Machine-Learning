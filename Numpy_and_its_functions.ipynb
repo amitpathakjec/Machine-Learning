{
  "nbformat": 4,
  "nbformat_minor": 0,
  "metadata": {
    "colab": {
      "name": "Numpy and its functions",
      "provenance": [],
      "authorship_tag": "ABX9TyO3pXsbv37uYUfgJfzpK52l",
      "include_colab_link": true
    },
    "kernelspec": {
      "name": "python3",
      "display_name": "Python 3"
    }
  },
  "cells": [
    {
      "cell_type": "markdown",
      "metadata": {
        "id": "view-in-github",
        "colab_type": "text"
      },
      "source": [
        "<a href=\"https://colab.research.google.com/github/amitpathakjec/Machine-Learning/blob/master/Numpy_and_its_functions.ipynb\" target=\"_parent\"><img src=\"https://colab.research.google.com/assets/colab-badge.svg\" alt=\"Open In Colab\"/></a>"
      ]
    },
    {
      "cell_type": "markdown",
      "metadata": {
        "id": "B2wQ8OV3lHuF",
        "colab_type": "text"
      },
      "source": [
        "### **Numpy**\n",
        "NumPy is a general purpose array-processing package. It provides a high-performance multi-dimensional array object, and tools for working with these arrays. It is the fundamental package for scientific computing with python.\n",
        "\n",
        "### What is an array:\n",
        "An array is a data structure that stores values of same data type. In python, this is the main difference between an array and a list. A list can contain values of different data types while an array can't.\n"
      ]
    },
    {
      "cell_type": "code",
      "metadata": {
        "id": "fhFyXi-klB_4",
        "colab_type": "code",
        "colab": {}
      },
      "source": [
        "# initially lets import numPy\n",
        " \n",
        "import numpy as np\n"
      ],
      "execution_count": 0,
      "outputs": []
    },
    {
      "cell_type": "code",
      "metadata": {
        "id": "ea4SFJ1vm4fC",
        "colab_type": "code",
        "colab": {}
      },
      "source": [
        "my_list = [1,2,3,4,5,]\n",
        "arr = np.array(my_list)"
      ],
      "execution_count": 0,
      "outputs": []
    },
    {
      "cell_type": "code",
      "metadata": {
        "id": "MHiiyeVPnjcD",
        "colab_type": "code",
        "outputId": "a4732cb1-359a-4553-da18-7981a27d917e",
        "colab": {
          "base_uri": "https://localhost:8080/",
          "height": 34
        }
      },
      "source": [
        "type(arr)"
      ],
      "execution_count": 71,
      "outputs": [
        {
          "output_type": "execute_result",
          "data": {
            "text/plain": [
              "numpy.ndarray"
            ]
          },
          "metadata": {
            "tags": []
          },
          "execution_count": 71
        }
      ]
    },
    {
      "cell_type": "code",
      "metadata": {
        "id": "Y-KBYklcnlBL",
        "colab_type": "code",
        "outputId": "3a87f747-a9ad-4d90-906b-b280636990ea",
        "colab": {
          "base_uri": "https://localhost:8080/",
          "height": 34
        }
      },
      "source": [
        "print(arr)"
      ],
      "execution_count": 72,
      "outputs": [
        {
          "output_type": "stream",
          "text": [
            "[1 2 3 4 5]\n"
          ],
          "name": "stdout"
        }
      ]
    },
    {
      "cell_type": "code",
      "metadata": {
        "id": "qI2sR8wTn1sS",
        "colab_type": "code",
        "outputId": "54af0e4a-ef3a-4dc7-ec5e-1804ce64c240",
        "colab": {
          "base_uri": "https://localhost:8080/",
          "height": 34
        }
      },
      "source": [
        "arr"
      ],
      "execution_count": 73,
      "outputs": [
        {
          "output_type": "execute_result",
          "data": {
            "text/plain": [
              "array([1, 2, 3, 4, 5])"
            ]
          },
          "metadata": {
            "tags": []
          },
          "execution_count": 73
        }
      ]
    },
    {
      "cell_type": "code",
      "metadata": {
        "id": "selq1jpBn2Ie",
        "colab_type": "code",
        "outputId": "9e7ea3af-ee59-4107-c57e-2e8148401a35",
        "colab": {
          "base_uri": "https://localhost:8080/",
          "height": 34
        }
      },
      "source": [
        "# .shape - let's you know the number of rows and columns present in the array\n",
        "arr.shape"
      ],
      "execution_count": 74,
      "outputs": [
        {
          "output_type": "execute_result",
          "data": {
            "text/plain": [
              "(5,)"
            ]
          },
          "metadata": {
            "tags": []
          },
          "execution_count": 74
        }
      ]
    },
    {
      "cell_type": "code",
      "metadata": {
        "id": "O-h5Z8X7n6n7",
        "colab_type": "code",
        "outputId": "41071656-e669-41cf-f707-25dbeafdd8a8",
        "colab": {
          "base_uri": "https://localhost:8080/",
          "height": 34
        }
      },
      "source": [
        "arr.reshape"
      ],
      "execution_count": 75,
      "outputs": [
        {
          "output_type": "execute_result",
          "data": {
            "text/plain": [
              "<function ndarray.reshape>"
            ]
          },
          "metadata": {
            "tags": []
          },
          "execution_count": 75
        }
      ]
    },
    {
      "cell_type": "code",
      "metadata": {
        "id": "PkFsKCJvoM_1",
        "colab_type": "code",
        "outputId": "31dd97bc-33df-4493-f0ce-346bce05c2bd",
        "colab": {
          "base_uri": "https://localhost:8080/",
          "height": 34
        }
      },
      "source": [
        "type(arr)"
      ],
      "execution_count": 76,
      "outputs": [
        {
          "output_type": "execute_result",
          "data": {
            "text/plain": [
              "numpy.ndarray"
            ]
          },
          "metadata": {
            "tags": []
          },
          "execution_count": 76
        }
      ]
    },
    {
      "cell_type": "code",
      "metadata": {
        "id": "ifG-4VqToPLe",
        "colab_type": "code",
        "colab": {}
      },
      "source": [
        "# Multinested array\n",
        "list1 = [1,2,3,4]\n",
        "list2 = [2,3,4,5]\n",
        "list3 = [3,4,5,6]\n",
        "\n",
        "array_1 = np.array([list1,list2,list3])"
      ],
      "execution_count": 0,
      "outputs": []
    },
    {
      "cell_type": "code",
      "metadata": {
        "id": "D5sVTypiopt6",
        "colab_type": "code",
        "outputId": "1b2d2f0c-fbfc-45be-ce36-b44aa14f2c13",
        "colab": {
          "base_uri": "https://localhost:8080/",
          "height": 68
        }
      },
      "source": [
        "array_1"
      ],
      "execution_count": 78,
      "outputs": [
        {
          "output_type": "execute_result",
          "data": {
            "text/plain": [
              "array([[1, 2, 3, 4],\n",
              "       [2, 3, 4, 5],\n",
              "       [3, 4, 5, 6]])"
            ]
          },
          "metadata": {
            "tags": []
          },
          "execution_count": 78
        }
      ]
    },
    {
      "cell_type": "code",
      "metadata": {
        "id": "dPbZZC6ko1dN",
        "colab_type": "code",
        "outputId": "4d8f9db1-0405-4e9b-e148-bdcb37c5f766",
        "colab": {
          "base_uri": "https://localhost:8080/",
          "height": 34
        }
      },
      "source": [
        "array_1.shape"
      ],
      "execution_count": 79,
      "outputs": [
        {
          "output_type": "execute_result",
          "data": {
            "text/plain": [
              "(3, 4)"
            ]
          },
          "metadata": {
            "tags": []
          },
          "execution_count": 79
        }
      ]
    },
    {
      "cell_type": "code",
      "metadata": {
        "id": "bkmHuSmDo3BC",
        "colab_type": "code",
        "outputId": "d99224df-f38f-44fd-a7ce-92c3fa330b0f",
        "colab": {
          "base_uri": "https://localhost:8080/",
          "height": 85
        }
      },
      "source": [
        "array_1.reshape(4,3)"
      ],
      "execution_count": 80,
      "outputs": [
        {
          "output_type": "execute_result",
          "data": {
            "text/plain": [
              "array([[1, 2, 3],\n",
              "       [4, 2, 3],\n",
              "       [4, 5, 3],\n",
              "       [4, 5, 6]])"
            ]
          },
          "metadata": {
            "tags": []
          },
          "execution_count": 80
        }
      ]
    },
    {
      "cell_type": "code",
      "metadata": {
        "id": "d0ZRWzuwo6V0",
        "colab_type": "code",
        "outputId": "25521b99-1b7b-4bd2-e02e-20dd31f7b7e3",
        "colab": {
          "base_uri": "https://localhost:8080/",
          "height": 34
        }
      },
      "source": [
        "array_1.reshape(1,12)"
      ],
      "execution_count": 81,
      "outputs": [
        {
          "output_type": "execute_result",
          "data": {
            "text/plain": [
              "array([[1, 2, 3, 4, 2, 3, 4, 5, 3, 4, 5, 6]])"
            ]
          },
          "metadata": {
            "tags": []
          },
          "execution_count": 81
        }
      ]
    },
    {
      "cell_type": "code",
      "metadata": {
        "id": "ndsBFRQIpMOS",
        "colab_type": "code",
        "colab": {}
      },
      "source": [
        "# array_1.reshape(2,8)\n",
        "# cannot reshape array of size 12 into shape (2,8)"
      ],
      "execution_count": 0,
      "outputs": []
    },
    {
      "cell_type": "code",
      "metadata": {
        "id": "W0FHmevbpUTm",
        "colab_type": "code",
        "outputId": "7088d7f5-c43d-48cc-f9df-cea9bd67531c",
        "colab": {
          "base_uri": "https://localhost:8080/",
          "height": 34
        }
      },
      "source": [
        "array_1.shape"
      ],
      "execution_count": 83,
      "outputs": [
        {
          "output_type": "execute_result",
          "data": {
            "text/plain": [
              "(3, 4)"
            ]
          },
          "metadata": {
            "tags": []
          },
          "execution_count": 83
        }
      ]
    },
    {
      "cell_type": "markdown",
      "metadata": {
        "id": "Qbq3basepjuR",
        "colab_type": "text"
      },
      "source": [
        "**Indexing**"
      ]
    },
    {
      "cell_type": "code",
      "metadata": {
        "id": "ukc2HVD5qjDX",
        "colab_type": "code",
        "colab": {}
      },
      "source": [
        "# Accessing the array element\n",
        "\n",
        "arr2 = np.array([1,2,3,4,5,6,7,8,9])"
      ],
      "execution_count": 0,
      "outputs": []
    },
    {
      "cell_type": "code",
      "metadata": {
        "id": "dbSMlQwUq1XW",
        "colab_type": "code",
        "outputId": "8c1df2e0-9869-4db6-f40f-f528f3fadeea",
        "colab": {
          "base_uri": "https://localhost:8080/",
          "height": 34
        }
      },
      "source": [
        "arr2[3]"
      ],
      "execution_count": 85,
      "outputs": [
        {
          "output_type": "execute_result",
          "data": {
            "text/plain": [
              "4"
            ]
          },
          "metadata": {
            "tags": []
          },
          "execution_count": 85
        }
      ]
    },
    {
      "cell_type": "code",
      "metadata": {
        "id": "cdV3OCUxq3-J",
        "colab_type": "code",
        "outputId": "02c60bcf-ce47-412e-a9e6-9d21c730b5e5",
        "colab": {
          "base_uri": "https://localhost:8080/",
          "height": 34
        }
      },
      "source": [
        "arr2"
      ],
      "execution_count": 86,
      "outputs": [
        {
          "output_type": "execute_result",
          "data": {
            "text/plain": [
              "array([1, 2, 3, 4, 5, 6, 7, 8, 9])"
            ]
          },
          "metadata": {
            "tags": []
          },
          "execution_count": 86
        }
      ]
    },
    {
      "cell_type": "code",
      "metadata": {
        "id": "JeUlLNQ9ZHe_",
        "colab_type": "code",
        "colab": {
          "base_uri": "https://localhost:8080/",
          "height": 34
        },
        "outputId": "f93a318d-d145-46a9-e2bd-527f9d1d04f4"
      },
      "source": [
        "array_1[1][2]"
      ],
      "execution_count": 87,
      "outputs": [
        {
          "output_type": "execute_result",
          "data": {
            "text/plain": [
              "4"
            ]
          },
          "metadata": {
            "tags": []
          },
          "execution_count": 87
        }
      ]
    },
    {
      "cell_type": "code",
      "metadata": {
        "id": "8ZPdswxbZkbD",
        "colab_type": "code",
        "colab": {
          "base_uri": "https://localhost:8080/",
          "height": 51
        },
        "outputId": "bb63e9ba-8b97-476c-bc32-6bd9cc5df2b4"
      },
      "source": [
        "array_1[0:2,0:2]"
      ],
      "execution_count": 88,
      "outputs": [
        {
          "output_type": "execute_result",
          "data": {
            "text/plain": [
              "array([[1, 2],\n",
              "       [2, 3]])"
            ]
          },
          "metadata": {
            "tags": []
          },
          "execution_count": 88
        }
      ]
    },
    {
      "cell_type": "code",
      "metadata": {
        "id": "BYvqUjC2ZxiR",
        "colab_type": "code",
        "colab": {
          "base_uri": "https://localhost:8080/",
          "height": 51
        },
        "outputId": "661faf91-df8c-449d-ef00-639bf3f91ea7"
      },
      "source": [
        "array_1[1:,2:]"
      ],
      "execution_count": 89,
      "outputs": [
        {
          "output_type": "execute_result",
          "data": {
            "text/plain": [
              "array([[4, 5],\n",
              "       [5, 6]])"
            ]
          },
          "metadata": {
            "tags": []
          },
          "execution_count": 89
        }
      ]
    },
    {
      "cell_type": "markdown",
      "metadata": {
        "id": "GnetePo1aBVt",
        "colab_type": "text"
      },
      "source": [
        "**Inbuilt functions:**\n",
        "\n",
        "\n",
        "*   np.arange\n",
        "*   np.linspace\n",
        "*   np.array\n",
        "*   np.ones\n",
        "*   np.random.rand\n",
        "*   \n",
        "\n",
        "\n",
        "\n",
        "\n",
        "\n"
      ]
    },
    {
      "cell_type": "code",
      "metadata": {
        "id": "rjt-Rks7Z7wu",
        "colab_type": "code",
        "colab": {}
      },
      "source": [
        "arr1 = np.arange(0,20,2)"
      ],
      "execution_count": 0,
      "outputs": []
    },
    {
      "cell_type": "code",
      "metadata": {
        "id": "gPwToQqCaV_0",
        "colab_type": "code",
        "colab": {
          "base_uri": "https://localhost:8080/",
          "height": 34
        },
        "outputId": "0f4deae5-155d-4710-8ab6-b4c2033868d0"
      },
      "source": [
        "arr1"
      ],
      "execution_count": 91,
      "outputs": [
        {
          "output_type": "execute_result",
          "data": {
            "text/plain": [
              "array([ 0,  2,  4,  6,  8, 10, 12, 14, 16, 18])"
            ]
          },
          "metadata": {
            "tags": []
          },
          "execution_count": 91
        }
      ]
    },
    {
      "cell_type": "code",
      "metadata": {
        "id": "k_f2CsbnaWpA",
        "colab_type": "code",
        "colab": {
          "base_uri": "https://localhost:8080/",
          "height": 187
        },
        "outputId": "db3d70ef-089c-49c8-e4f9-5ad7b72d79c5"
      },
      "source": [
        "np.linspace(0,10,50)"
      ],
      "execution_count": 92,
      "outputs": [
        {
          "output_type": "execute_result",
          "data": {
            "text/plain": [
              "array([ 0.        ,  0.20408163,  0.40816327,  0.6122449 ,  0.81632653,\n",
              "        1.02040816,  1.2244898 ,  1.42857143,  1.63265306,  1.83673469,\n",
              "        2.04081633,  2.24489796,  2.44897959,  2.65306122,  2.85714286,\n",
              "        3.06122449,  3.26530612,  3.46938776,  3.67346939,  3.87755102,\n",
              "        4.08163265,  4.28571429,  4.48979592,  4.69387755,  4.89795918,\n",
              "        5.10204082,  5.30612245,  5.51020408,  5.71428571,  5.91836735,\n",
              "        6.12244898,  6.32653061,  6.53061224,  6.73469388,  6.93877551,\n",
              "        7.14285714,  7.34693878,  7.55102041,  7.75510204,  7.95918367,\n",
              "        8.16326531,  8.36734694,  8.57142857,  8.7755102 ,  8.97959184,\n",
              "        9.18367347,  9.3877551 ,  9.59183673,  9.79591837, 10.        ])"
            ]
          },
          "metadata": {
            "tags": []
          },
          "execution_count": 92
        }
      ]
    },
    {
      "cell_type": "code",
      "metadata": {
        "id": "Tin-CBKdaiK0",
        "colab_type": "code",
        "colab": {
          "base_uri": "https://localhost:8080/",
          "height": 34
        },
        "outputId": "c364dc19-dab1-4db6-c8f4-507f96ea0ff8"
      },
      "source": [
        "# Copy() and broadcasting\n",
        "#arr2 = np.array([1,2,3,4,5,6,7,8,9])\n",
        " arr2[3:] = 100\n",
        " arr2"
      ],
      "execution_count": 93,
      "outputs": [
        {
          "output_type": "execute_result",
          "data": {
            "text/plain": [
              "array([  1,   2,   3, 100, 100, 100, 100, 100, 100])"
            ]
          },
          "metadata": {
            "tags": []
          },
          "execution_count": 93
        }
      ]
    },
    {
      "cell_type": "code",
      "metadata": {
        "id": "x5B3akjxbqZ_",
        "colab_type": "code",
        "colab": {}
      },
      "source": [
        "arr1 = arr2"
      ],
      "execution_count": 0,
      "outputs": []
    },
    {
      "cell_type": "code",
      "metadata": {
        "id": "V6MeZVDmb1FK",
        "colab_type": "code",
        "colab": {}
      },
      "source": [
        "arr1[3:] = 500"
      ],
      "execution_count": 0,
      "outputs": []
    },
    {
      "cell_type": "code",
      "metadata": {
        "id": "LVtLVegzb3zA",
        "colab_type": "code",
        "colab": {
          "base_uri": "https://localhost:8080/",
          "height": 34
        },
        "outputId": "15f6dcbc-0a11-4b2c-cce8-91091445d6c0"
      },
      "source": [
        "arr1"
      ],
      "execution_count": 96,
      "outputs": [
        {
          "output_type": "execute_result",
          "data": {
            "text/plain": [
              "array([  1,   2,   3, 500, 500, 500, 500, 500, 500])"
            ]
          },
          "metadata": {
            "tags": []
          },
          "execution_count": 96
        }
      ]
    },
    {
      "cell_type": "code",
      "metadata": {
        "id": "uHK4Ea2Mb-kY",
        "colab_type": "code",
        "colab": {
          "base_uri": "https://localhost:8080/",
          "height": 34
        },
        "outputId": "e11e3089-394c-404f-9f2e-4dc539fe9d33"
      },
      "source": [
        "arr2 = arr1.copy()\n",
        "arr2"
      ],
      "execution_count": 97,
      "outputs": [
        {
          "output_type": "execute_result",
          "data": {
            "text/plain": [
              "array([  1,   2,   3, 500, 500, 500, 500, 500, 500])"
            ]
          },
          "metadata": {
            "tags": []
          },
          "execution_count": 97
        }
      ]
    },
    {
      "cell_type": "code",
      "metadata": {
        "id": "UJDLzRjecFmy",
        "colab_type": "code",
        "colab": {
          "base_uri": "https://localhost:8080/",
          "height": 34
        },
        "outputId": "6af6e90e-7e32-4369-fa7f-f975aa128c7e"
      },
      "source": [
        "arr1[3:] = 1000\n",
        "arr1"
      ],
      "execution_count": 98,
      "outputs": [
        {
          "output_type": "execute_result",
          "data": {
            "text/plain": [
              "array([   1,    2,    3, 1000, 1000, 1000, 1000, 1000, 1000])"
            ]
          },
          "metadata": {
            "tags": []
          },
          "execution_count": 98
        }
      ]
    },
    {
      "cell_type": "code",
      "metadata": {
        "id": "jPzvgHn7caMY",
        "colab_type": "code",
        "colab": {
          "base_uri": "https://localhost:8080/",
          "height": 34
        },
        "outputId": "45f12f7d-64db-4734-a95d-60b413052da9"
      },
      "source": [
        "# Some Conditions very useful in Exploratory Data Analysis\n",
        "\n",
        "arr1<5\n",
        "arr1[arr1<5]"
      ],
      "execution_count": 99,
      "outputs": [
        {
          "output_type": "execute_result",
          "data": {
            "text/plain": [
              "array([1, 2, 3])"
            ]
          },
          "metadata": {
            "tags": []
          },
          "execution_count": 99
        }
      ]
    },
    {
      "cell_type": "code",
      "metadata": {
        "id": "orLQGzm_dLeN",
        "colab_type": "code",
        "colab": {
          "base_uri": "https://localhost:8080/",
          "height": 34
        },
        "outputId": "27123cc9-3c9c-4da9-e4ab-7ac35fe62022"
      },
      "source": [
        "arr1<600"
      ],
      "execution_count": 100,
      "outputs": [
        {
          "output_type": "execute_result",
          "data": {
            "text/plain": [
              "array([ True,  True,  True, False, False, False, False, False, False])"
            ]
          },
          "metadata": {
            "tags": []
          },
          "execution_count": 100
        }
      ]
    },
    {
      "cell_type": "code",
      "metadata": {
        "id": "udCrgv1KdOD8",
        "colab_type": "code",
        "colab": {
          "base_uri": "https://localhost:8080/",
          "height": 102
        },
        "outputId": "9c977630-f572-46f1-db3e-c86f9aa91259"
      },
      "source": [
        "# Create arrays and reshape\n",
        "\n",
        "np.arange(0,20,2).reshape(5,2)"
      ],
      "execution_count": 101,
      "outputs": [
        {
          "output_type": "execute_result",
          "data": {
            "text/plain": [
              "array([[ 0,  2],\n",
              "       [ 4,  6],\n",
              "       [ 8, 10],\n",
              "       [12, 14],\n",
              "       [16, 18]])"
            ]
          },
          "metadata": {
            "tags": []
          },
          "execution_count": 101
        }
      ]
    },
    {
      "cell_type": "code",
      "metadata": {
        "id": "MJdCVu74deyY",
        "colab_type": "code",
        "colab": {
          "base_uri": "https://localhost:8080/",
          "height": 51
        },
        "outputId": "3cc94b86-ebc8-4699-fef5-39c89879919c"
      },
      "source": [
        "arr1*arr2 # it's not like a matrix multiplication, rather same index elements get multiplied with each others."
      ],
      "execution_count": 102,
      "outputs": [
        {
          "output_type": "execute_result",
          "data": {
            "text/plain": [
              "array([     1,      4,      9, 500000, 500000, 500000, 500000, 500000,\n",
              "       500000])"
            ]
          },
          "metadata": {
            "tags": []
          },
          "execution_count": 102
        }
      ]
    },
    {
      "cell_type": "code",
      "metadata": {
        "id": "fCeoctHed5B1",
        "colab_type": "code",
        "colab": {
          "base_uri": "https://localhost:8080/",
          "height": 34
        },
        "outputId": "7ec29930-87b7-41f8-bac9-b49c949bc8dc"
      },
      "source": [
        "# np.ones\n",
        "np.ones(4,dtype=int)"
      ],
      "execution_count": 103,
      "outputs": [
        {
          "output_type": "execute_result",
          "data": {
            "text/plain": [
              "array([1, 1, 1, 1])"
            ]
          },
          "metadata": {
            "tags": []
          },
          "execution_count": 103
        }
      ]
    },
    {
      "cell_type": "code",
      "metadata": {
        "id": "Si553YxyeRPo",
        "colab_type": "code",
        "colab": {
          "base_uri": "https://localhost:8080/",
          "height": 51
        },
        "outputId": "cfa3e00e-3205-41bc-f00d-cac0c74378df"
      },
      "source": [
        "np.ones((2,5),dtype=int)"
      ],
      "execution_count": 104,
      "outputs": [
        {
          "output_type": "execute_result",
          "data": {
            "text/plain": [
              "array([[1, 1, 1, 1, 1],\n",
              "       [1, 1, 1, 1, 1]])"
            ]
          },
          "metadata": {
            "tags": []
          },
          "execution_count": 104
        }
      ]
    },
    {
      "cell_type": "code",
      "metadata": {
        "id": "r7qOkSwKeYCe",
        "colab_type": "code",
        "colab": {
          "base_uri": "https://localhost:8080/",
          "height": 68
        },
        "outputId": "3b603ba3-df6f-47e2-c45b-ec62daca334a"
      },
      "source": [
        "# Random Distribution\n",
        "np.random.rand(3,3)"
      ],
      "execution_count": 105,
      "outputs": [
        {
          "output_type": "execute_result",
          "data": {
            "text/plain": [
              "array([[0.5078569 , 0.32245052, 0.8918321 ],\n",
              "       [0.10336092, 0.06092457, 0.17192033],\n",
              "       [0.85344299, 0.53897406, 0.79006397]])"
            ]
          },
          "metadata": {
            "tags": []
          },
          "execution_count": 105
        }
      ]
    },
    {
      "cell_type": "code",
      "metadata": {
        "id": "R11lzGrke3wT",
        "colab_type": "code",
        "colab": {}
      },
      "source": [
        "array_ex = np.random.randn(4,4)"
      ],
      "execution_count": 0,
      "outputs": []
    },
    {
      "cell_type": "code",
      "metadata": {
        "id": "hW6FW6rZfHi5",
        "colab_type": "code",
        "colab": {
          "base_uri": "https://localhost:8080/",
          "height": 85
        },
        "outputId": "84ed01de-3a47-40a7-9b31-caf43e1b3c4e"
      },
      "source": [
        "array_ex"
      ],
      "execution_count": 113,
      "outputs": [
        {
          "output_type": "execute_result",
          "data": {
            "text/plain": [
              "array([[ 0.24735063, -1.17168835, -0.71299506, -0.59746311],\n",
              "       [ 0.10329052, -0.61579224,  0.61019492,  1.17356926],\n",
              "       [ 0.13324729,  0.13432463, -0.8127591 ,  0.17867044],\n",
              "       [ 1.05256288, -0.82689981,  0.19777959, -0.73750477]])"
            ]
          },
          "metadata": {
            "tags": []
          },
          "execution_count": 113
        }
      ]
    },
    {
      "cell_type": "code",
      "metadata": {
        "id": "92S2CCJ0gEGQ",
        "colab_type": "code",
        "colab": {}
      },
      "source": [
        "#np.sum(array_ex)\n",
        "\n",
        "import seaborn as sns\n",
        "import pandas as pd\n"
      ],
      "execution_count": 0,
      "outputs": []
    },
    {
      "cell_type": "code",
      "metadata": {
        "id": "KJi2Ft9JhrKj",
        "colab_type": "code",
        "colab": {
          "base_uri": "https://localhost:8080/",
          "height": 282
        },
        "outputId": "721e2ee3-0f19-4e88-8150-f5fcac9809b6"
      },
      "source": [
        "sns.distplot(pd.DataFrame(array_ex.reshape(16,1)))\n",
        "\n"
      ],
      "execution_count": 118,
      "outputs": [
        {
          "output_type": "execute_result",
          "data": {
            "text/plain": [
              "<matplotlib.axes._subplots.AxesSubplot at 0x7f9abe22fa90>"
            ]
          },
          "metadata": {
            "tags": []
          },
          "execution_count": 118
        },
        {
          "output_type": "display_data",
          "data": {
            "image/png": "[encoded data removed]",
            "text/plain": [
              "<Figure size 432x288 with 1 Axes>"
            ]
          },
          "metadata": {
            "tags": [],
            "needs_background": "light"
          }
        }
      ]
    },
    {
      "cell_type": "code",
      "metadata": {
        "id": "jN7WBurEfhnt",
        "colab_type": "code",
        "colab": {
          "base_uri": "https://localhost:8080/",
          "height": 102
        },
        "outputId": "76698939-4d9c-4b50-ec52-7bca23921950"
      },
      "source": [
        "np.random.randint(0,100,20).reshape(5,4)"
      ],
      "execution_count": 109,
      "outputs": [
        {
          "output_type": "execute_result",
          "data": {
            "text/plain": [
              "array([[48, 70, 19, 74],\n",
              "       [ 2, 13,  1, 50],\n",
              "       [50,  6, 31, 53],\n",
              "       [25,  9, 67, 21],\n",
              "       [14, 67, 91, 49]])"
            ]
          },
          "metadata": {
            "tags": []
          },
          "execution_count": 109
        }
      ]
    },
    {
      "cell_type": "code",
      "metadata": {
        "id": "XXhxY1rJf-ib",
        "colab_type": "code",
        "colab": {
          "base_uri": "https://localhost:8080/",
          "height": 51
        },
        "outputId": "45b0340a-90fb-4b60-c881-faf113b13385"
      },
      "source": [
        "np.random.random_sample((2,5))"
      ],
      "execution_count": 110,
      "outputs": [
        {
          "output_type": "execute_result",
          "data": {
            "text/plain": [
              "array([[0.93518364, 0.85506195, 0.61206762, 0.93587508, 0.79453687],\n",
              "       [0.07495856, 0.49453288, 0.52805264, 0.4843952 , 0.31759823]])"
            ]
          },
          "metadata": {
            "tags": []
          },
          "execution_count": 110
        }
      ]
    }
  ]
}